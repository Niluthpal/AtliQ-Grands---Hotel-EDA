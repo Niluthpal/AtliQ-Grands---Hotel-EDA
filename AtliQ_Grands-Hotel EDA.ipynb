{
 "cells": [
  {
   "cell_type": "code",
   "execution_count": 1,
   "id": "9068d843-6f72-42dd-b8b6-207868874775",
   "metadata": {},
   "outputs": [],
   "source": [
    "import pandas as pd \n",
    "import numpy as np\n",
    "import seaborn as sns\n",
    "import matplotlib.pyplot as plt"
   ]
  },
  {
   "cell_type": "markdown",
   "id": "5e9fa833-acf2-462b-b09b-3386a4b8abe7",
   "metadata": {},
   "source": [
    "# Importing all the Datasets."
   ]
  },
  {
   "cell_type": "code",
   "execution_count": 2,
   "id": "ae9b1879-54e0-421c-8bef-0d59af3817c3",
   "metadata": {},
   "outputs": [],
   "source": [
    "df_date = pd.read_csv(r\"D:\\AtliQ Grands\\Input Files\\dim_date.csv\")\n",
    "df_hotels = pd.read_csv(r\"D:\\AtliQ Grands\\Input Files\\dim_hotels.csv\")\n",
    "df_rooms = pd.read_csv(r\"D:\\AtliQ Grands\\Input Files\\dim_rooms.csv\")\n",
    "df_aggregated_bookings = pd.read_csv(r\"D:\\AtliQ Grands\\Input Files\\fact_aggregated_bookings.csv\")\n",
    "df_bookings = pd.read_csv(r\"D:\\AtliQ Grands\\Input Files\\fact_bookings.csv\")"
   ]
  },
  {
   "cell_type": "markdown",
   "id": "673bb6e9-bca0-49b2-a82c-183e2e0d9b0d",
   "metadata": {},
   "source": [
    "# Exploring the Datasets."
   ]
  },
  {
   "cell_type": "code",
   "execution_count": 3,
   "id": "f5c821e3-1816-4963-a9fa-d3c1f303c828",
   "metadata": {},
   "outputs": [
    {
     "data": {
      "text/html": [
       "<div>\n",
       "<style scoped>\n",
       "    .dataframe tbody tr th:only-of-type {\n",
       "        vertical-align: middle;\n",
       "    }\n",
       "\n",
       "    .dataframe tbody tr th {\n",
       "        vertical-align: top;\n",
       "    }\n",
       "\n",
       "    .dataframe thead th {\n",
       "        text-align: right;\n",
       "    }\n",
       "</style>\n",
       "<table border=\"1\" class=\"dataframe\">\n",
       "  <thead>\n",
       "    <tr style=\"text-align: right;\">\n",
       "      <th></th>\n",
       "      <th>date</th>\n",
       "      <th>mmm yy</th>\n",
       "      <th>week no</th>\n",
       "      <th>day_type</th>\n",
       "    </tr>\n",
       "  </thead>\n",
       "  <tbody>\n",
       "    <tr>\n",
       "      <th>0</th>\n",
       "      <td>1-May-22</td>\n",
       "      <td>22-May</td>\n",
       "      <td>W 19</td>\n",
       "      <td>weekend</td>\n",
       "    </tr>\n",
       "    <tr>\n",
       "      <th>1</th>\n",
       "      <td>2-May-22</td>\n",
       "      <td>22-May</td>\n",
       "      <td>W 19</td>\n",
       "      <td>weekeday</td>\n",
       "    </tr>\n",
       "    <tr>\n",
       "      <th>2</th>\n",
       "      <td>3-May-22</td>\n",
       "      <td>22-May</td>\n",
       "      <td>W 19</td>\n",
       "      <td>Weekeday</td>\n",
       "    </tr>\n",
       "    <tr>\n",
       "      <th>3</th>\n",
       "      <td>4-May-22</td>\n",
       "      <td>22-May</td>\n",
       "      <td>W 19</td>\n",
       "      <td>weekeday</td>\n",
       "    </tr>\n",
       "    <tr>\n",
       "      <th>4</th>\n",
       "      <td>5-May-22</td>\n",
       "      <td>22-May</td>\n",
       "      <td>W 19</td>\n",
       "      <td>weekeday</td>\n",
       "    </tr>\n",
       "  </tbody>\n",
       "</table>\n",
       "</div>"
      ],
      "text/plain": [
       "       date  mmm yy week no  day_type\n",
       "0  1-May-22  22-May    W 19   weekend\n",
       "1  2-May-22  22-May    W 19  weekeday\n",
       "2  3-May-22  22-May    W 19  Weekeday\n",
       "3  4-May-22  22-May    W 19  weekeday\n",
       "4  5-May-22  22-May    W 19  weekeday"
      ]
     },
     "execution_count": 3,
     "metadata": {},
     "output_type": "execute_result"
    }
   ],
   "source": [
    "df_date.head()"
   ]
  },
  {
   "cell_type": "code",
   "execution_count": 4,
   "id": "04df8663-4145-49fc-95df-d4142978619a",
   "metadata": {},
   "outputs": [
    {
     "data": {
      "text/plain": [
       "date        0\n",
       "mmm yy      0\n",
       "week no     0\n",
       "day_type    0\n",
       "dtype: int64"
      ]
     },
     "execution_count": 4,
     "metadata": {},
     "output_type": "execute_result"
    }
   ],
   "source": [
    "df_date.isnull().sum()"
   ]
  },
  {
   "cell_type": "code",
   "execution_count": 5,
   "id": "d90e1e90-be2b-4f6f-961b-f7b7b68c5ea8",
   "metadata": {},
   "outputs": [
    {
     "name": "stdout",
     "output_type": "stream",
     "text": [
      "<class 'pandas.core.frame.DataFrame'>\n",
      "RangeIndex: 92 entries, 0 to 91\n",
      "Data columns (total 4 columns):\n",
      " #   Column    Non-Null Count  Dtype \n",
      "---  ------    --------------  ----- \n",
      " 0   date      92 non-null     object\n",
      " 1   mmm yy    92 non-null     object\n",
      " 2   week no   92 non-null     object\n",
      " 3   day_type  92 non-null     object\n",
      "dtypes: object(4)\n",
      "memory usage: 3.0+ KB\n"
     ]
    }
   ],
   "source": [
    "df_date.info() # date column is in object data type we will change it to datetime later."
   ]
  },
  {
   "cell_type": "code",
   "execution_count": 6,
   "id": "8d7dd85f-1df7-4a55-a7a3-21b3afe97842",
   "metadata": {},
   "outputs": [
    {
     "data": {
      "text/plain": [
       "(92, 4)"
      ]
     },
     "execution_count": 6,
     "metadata": {},
     "output_type": "execute_result"
    }
   ],
   "source": [
    "df_date.shape  "
   ]
  },
  {
   "cell_type": "code",
   "execution_count": 7,
   "id": "211d785f-34c9-4dcb-bf73-a97333ec7b30",
   "metadata": {},
   "outputs": [
    {
     "data": {
      "text/plain": [
       "array(['weekend', 'weekeday', 'Weekeday', 'Weekend', 'week end'],\n",
       "      dtype=object)"
      ]
     },
     "execution_count": 7,
     "metadata": {},
     "output_type": "execute_result"
    }
   ],
   "source": [
    "df_date['day_type'].unique() # There are some irregularity in the values in the day_type column."
   ]
  },
  {
   "cell_type": "code",
   "execution_count": 8,
   "id": "ace8624a-354a-4136-bfa9-2bc3a27b4b2e",
   "metadata": {},
   "outputs": [
    {
     "data": {
      "text/plain": [
       "day_type\n",
       "weekeday    63\n",
       "weekend     23\n",
       "Weekeday     2\n",
       "Weekend      2\n",
       "week end     2\n",
       "Name: count, dtype: int64"
      ]
     },
     "execution_count": 8,
     "metadata": {},
     "output_type": "execute_result"
    }
   ],
   "source": [
    "df_date['day_type'].value_counts()"
   ]
  },
  {
   "cell_type": "code",
   "execution_count": 9,
   "id": "5e0833d4-6c68-49cb-977e-e117b6a7a9f4",
   "metadata": {},
   "outputs": [
    {
     "data": {
      "text/html": [
       "<div>\n",
       "<style scoped>\n",
       "    .dataframe tbody tr th:only-of-type {\n",
       "        vertical-align: middle;\n",
       "    }\n",
       "\n",
       "    .dataframe tbody tr th {\n",
       "        vertical-align: top;\n",
       "    }\n",
       "\n",
       "    .dataframe thead th {\n",
       "        text-align: right;\n",
       "    }\n",
       "</style>\n",
       "<table border=\"1\" class=\"dataframe\">\n",
       "  <thead>\n",
       "    <tr style=\"text-align: right;\">\n",
       "      <th></th>\n",
       "      <th>property_id</th>\n",
       "      <th>property_name</th>\n",
       "      <th>category</th>\n",
       "      <th>city</th>\n",
       "    </tr>\n",
       "  </thead>\n",
       "  <tbody>\n",
       "    <tr>\n",
       "      <th>0</th>\n",
       "      <td>16558</td>\n",
       "      <td>Atliq Grands</td>\n",
       "      <td>Luxury</td>\n",
       "      <td>Delhi</td>\n",
       "    </tr>\n",
       "    <tr>\n",
       "      <th>1</th>\n",
       "      <td>16559</td>\n",
       "      <td>Atliq Exotica</td>\n",
       "      <td>Luxury</td>\n",
       "      <td>Mumbai</td>\n",
       "    </tr>\n",
       "    <tr>\n",
       "      <th>2</th>\n",
       "      <td>16560</td>\n",
       "      <td>Atliq City</td>\n",
       "      <td>Business</td>\n",
       "      <td>Delhi</td>\n",
       "    </tr>\n",
       "    <tr>\n",
       "      <th>3</th>\n",
       "      <td>16561</td>\n",
       "      <td>Atliq Blu</td>\n",
       "      <td>Luxury</td>\n",
       "      <td>Delhi</td>\n",
       "    </tr>\n",
       "    <tr>\n",
       "      <th>4</th>\n",
       "      <td>16562</td>\n",
       "      <td>Atliq Bay</td>\n",
       "      <td>Luxury</td>\n",
       "      <td>Delhi</td>\n",
       "    </tr>\n",
       "  </tbody>\n",
       "</table>\n",
       "</div>"
      ],
      "text/plain": [
       "   property_id  property_name  category    city\n",
       "0        16558   Atliq Grands    Luxury   Delhi\n",
       "1        16559  Atliq Exotica    Luxury  Mumbai\n",
       "2        16560     Atliq City  Business   Delhi\n",
       "3        16561      Atliq Blu    Luxury   Delhi\n",
       "4        16562      Atliq Bay    Luxury   Delhi"
      ]
     },
     "execution_count": 9,
     "metadata": {},
     "output_type": "execute_result"
    }
   ],
   "source": [
    "df_hotels.head()"
   ]
  },
  {
   "cell_type": "code",
   "execution_count": 10,
   "id": "9e04c8f4-2367-4560-9d8e-cd12281cf21d",
   "metadata": {},
   "outputs": [
    {
     "data": {
      "text/plain": [
       "(25, 4)"
      ]
     },
     "execution_count": 10,
     "metadata": {},
     "output_type": "execute_result"
    }
   ],
   "source": [
    "df_hotels.shape"
   ]
  },
  {
   "cell_type": "code",
   "execution_count": 11,
   "id": "2add9b1d-a128-4031-baad-9d2caca358fc",
   "metadata": {},
   "outputs": [
    {
     "name": "stdout",
     "output_type": "stream",
     "text": [
      "<class 'pandas.core.frame.DataFrame'>\n",
      "RangeIndex: 25 entries, 0 to 24\n",
      "Data columns (total 4 columns):\n",
      " #   Column         Non-Null Count  Dtype \n",
      "---  ------         --------------  ----- \n",
      " 0   property_id    25 non-null     int64 \n",
      " 1   property_name  25 non-null     object\n",
      " 2   category       25 non-null     object\n",
      " 3   city           25 non-null     object\n",
      "dtypes: int64(1), object(3)\n",
      "memory usage: 932.0+ bytes\n"
     ]
    }
   ],
   "source": [
    "df_hotels.info()"
   ]
  },
  {
   "cell_type": "code",
   "execution_count": 12,
   "id": "947cebcb-23ee-4651-a953-c441d4826b7e",
   "metadata": {},
   "outputs": [
    {
     "data": {
      "text/plain": [
       "property_name    9\n",
       "category         4\n",
       "city             4\n",
       "dtype: int64"
      ]
     },
     "execution_count": 12,
     "metadata": {},
     "output_type": "execute_result"
    }
   ],
   "source": [
    "df_hotels[['property_name','category','city']].nunique()"
   ]
  },
  {
   "cell_type": "code",
   "execution_count": 13,
   "id": "12684e27-7c77-46fd-9eeb-9806847fd427",
   "metadata": {},
   "outputs": [
    {
     "data": {
      "text/plain": [
       "array(['Atliq Grands', 'Atliq Exotica', 'Atliq City', 'Atliq Blu',\n",
       "       'Atliq Bay', 'Atliq Palacee', 'Atliq Palace', 'Atliq Cityy',\n",
       "       'Atliq Seasons'], dtype=object)"
      ]
     },
     "execution_count": 13,
     "metadata": {},
     "output_type": "execute_result"
    }
   ],
   "source": [
    "df_hotels['property_name'].unique() # There are spelling mistakes in some of the property name."
   ]
  },
  {
   "cell_type": "code",
   "execution_count": 14,
   "id": "b6559993-2f7e-4d77-be50-43aa04ecd82b",
   "metadata": {},
   "outputs": [
    {
     "data": {
      "text/plain": [
       "array(['Luxury', 'Business', 'Businesss', 'Luxuury'], dtype=object)"
      ]
     },
     "execution_count": 14,
     "metadata": {},
     "output_type": "execute_result"
    }
   ],
   "source": [
    "df_hotels['category'].unique() # There are spelling mistakes in some of the category."
   ]
  },
  {
   "cell_type": "code",
   "execution_count": 15,
   "id": "484086d5-5674-4314-a07e-2ca1cef432a7",
   "metadata": {},
   "outputs": [
    {
     "data": {
      "text/plain": [
       "array(['Delhi', 'Mumbai', 'Hyderabad', 'Bangalore'], dtype=object)"
      ]
     },
     "execution_count": 15,
     "metadata": {},
     "output_type": "execute_result"
    }
   ],
   "source": [
    "df_hotels['city'].unique() "
   ]
  },
  {
   "cell_type": "code",
   "execution_count": 16,
   "id": "8e63e620-5cf6-4530-ae71-877f5d4ce19b",
   "metadata": {},
   "outputs": [
    {
     "data": {
      "text/html": [
       "<div>\n",
       "<style scoped>\n",
       "    .dataframe tbody tr th:only-of-type {\n",
       "        vertical-align: middle;\n",
       "    }\n",
       "\n",
       "    .dataframe tbody tr th {\n",
       "        vertical-align: top;\n",
       "    }\n",
       "\n",
       "    .dataframe thead th {\n",
       "        text-align: right;\n",
       "    }\n",
       "</style>\n",
       "<table border=\"1\" class=\"dataframe\">\n",
       "  <thead>\n",
       "    <tr style=\"text-align: right;\">\n",
       "      <th></th>\n",
       "      <th>room_id</th>\n",
       "      <th>room_class</th>\n",
       "    </tr>\n",
       "  </thead>\n",
       "  <tbody>\n",
       "    <tr>\n",
       "      <th>0</th>\n",
       "      <td>RT1</td>\n",
       "      <td>Standard</td>\n",
       "    </tr>\n",
       "    <tr>\n",
       "      <th>1</th>\n",
       "      <td>RT2</td>\n",
       "      <td>Elite</td>\n",
       "    </tr>\n",
       "    <tr>\n",
       "      <th>2</th>\n",
       "      <td>RT3</td>\n",
       "      <td>Premium</td>\n",
       "    </tr>\n",
       "    <tr>\n",
       "      <th>3</th>\n",
       "      <td>RT4</td>\n",
       "      <td>Presidential</td>\n",
       "    </tr>\n",
       "  </tbody>\n",
       "</table>\n",
       "</div>"
      ],
      "text/plain": [
       "  room_id    room_class\n",
       "0     RT1      Standard\n",
       "1     RT2         Elite\n",
       "2     RT3       Premium\n",
       "3     RT4  Presidential"
      ]
     },
     "execution_count": 16,
     "metadata": {},
     "output_type": "execute_result"
    }
   ],
   "source": [
    "df_rooms.head(5)"
   ]
  },
  {
   "cell_type": "code",
   "execution_count": 17,
   "id": "709a2d18-96db-4464-a40f-b395e789aca2",
   "metadata": {},
   "outputs": [
    {
     "data": {
      "text/html": [
       "<div>\n",
       "<style scoped>\n",
       "    .dataframe tbody tr th:only-of-type {\n",
       "        vertical-align: middle;\n",
       "    }\n",
       "\n",
       "    .dataframe tbody tr th {\n",
       "        vertical-align: top;\n",
       "    }\n",
       "\n",
       "    .dataframe thead th {\n",
       "        text-align: right;\n",
       "    }\n",
       "</style>\n",
       "<table border=\"1\" class=\"dataframe\">\n",
       "  <thead>\n",
       "    <tr style=\"text-align: right;\">\n",
       "      <th></th>\n",
       "      <th>property_id</th>\n",
       "      <th>check_in_date</th>\n",
       "      <th>room_category</th>\n",
       "      <th>successful_bookings</th>\n",
       "      <th>capacity</th>\n",
       "    </tr>\n",
       "  </thead>\n",
       "  <tbody>\n",
       "    <tr>\n",
       "      <th>1959</th>\n",
       "      <td>18561</td>\n",
       "      <td>20-May-22</td>\n",
       "      <td>RT3</td>\n",
       "      <td>15</td>\n",
       "      <td>25.0</td>\n",
       "    </tr>\n",
       "    <tr>\n",
       "      <th>5752</th>\n",
       "      <td>19561</td>\n",
       "      <td>27-Jun-22</td>\n",
       "      <td>RT3</td>\n",
       "      <td>14</td>\n",
       "      <td>29.0</td>\n",
       "    </tr>\n",
       "    <tr>\n",
       "      <th>7886</th>\n",
       "      <td>18559</td>\n",
       "      <td>18-Jul-22</td>\n",
       "      <td>RT4</td>\n",
       "      <td>7</td>\n",
       "      <td>19.0</td>\n",
       "    </tr>\n",
       "    <tr>\n",
       "      <th>6685</th>\n",
       "      <td>18560</td>\n",
       "      <td>6-Jul-22</td>\n",
       "      <td>RT4</td>\n",
       "      <td>9</td>\n",
       "      <td>15.0</td>\n",
       "    </tr>\n",
       "    <tr>\n",
       "      <th>2721</th>\n",
       "      <td>18563</td>\n",
       "      <td>28-May-22</td>\n",
       "      <td>RT1</td>\n",
       "      <td>19</td>\n",
       "      <td>27.0</td>\n",
       "    </tr>\n",
       "  </tbody>\n",
       "</table>\n",
       "</div>"
      ],
      "text/plain": [
       "      property_id check_in_date room_category  successful_bookings  capacity\n",
       "1959        18561     20-May-22           RT3                   15      25.0\n",
       "5752        19561     27-Jun-22           RT3                   14      29.0\n",
       "7886        18559     18-Jul-22           RT4                    7      19.0\n",
       "6685        18560      6-Jul-22           RT4                    9      15.0\n",
       "2721        18563     28-May-22           RT1                   19      27.0"
      ]
     },
     "execution_count": 17,
     "metadata": {},
     "output_type": "execute_result"
    }
   ],
   "source": [
    "df_aggregated_bookings.sample(5)"
   ]
  },
  {
   "cell_type": "code",
   "execution_count": 18,
   "id": "d6a3bec8-a309-4021-8789-328f82329fbe",
   "metadata": {},
   "outputs": [
    {
     "data": {
      "text/plain": [
       "property_id            0\n",
       "check_in_date          0\n",
       "room_category          0\n",
       "successful_bookings    0\n",
       "capacity               2\n",
       "dtype: int64"
      ]
     },
     "execution_count": 18,
     "metadata": {},
     "output_type": "execute_result"
    }
   ],
   "source": [
    "df_aggregated_bookings.isnull().sum() # There is 2 null values in capacity column"
   ]
  },
  {
   "cell_type": "code",
   "execution_count": 19,
   "id": "8b1b144f-059b-499b-b144-191f9d82affc",
   "metadata": {},
   "outputs": [
    {
     "name": "stdout",
     "output_type": "stream",
     "text": [
      "<class 'pandas.core.frame.DataFrame'>\n",
      "RangeIndex: 9200 entries, 0 to 9199\n",
      "Data columns (total 5 columns):\n",
      " #   Column               Non-Null Count  Dtype  \n",
      "---  ------               --------------  -----  \n",
      " 0   property_id          9200 non-null   int64  \n",
      " 1   check_in_date        9200 non-null   object \n",
      " 2   room_category        9200 non-null   object \n",
      " 3   successful_bookings  9200 non-null   int64  \n",
      " 4   capacity             9198 non-null   float64\n",
      "dtypes: float64(1), int64(2), object(2)\n",
      "memory usage: 359.5+ KB\n"
     ]
    }
   ],
   "source": [
    "df_aggregated_bookings.info() # Date is in Object datatype"
   ]
  },
  {
   "cell_type": "code",
   "execution_count": 20,
   "id": "95ef6b1b-ef8c-488a-8c16-60663b8f7ce1",
   "metadata": {},
   "outputs": [
    {
     "data": {
      "text/plain": [
       "array(['RT1', 'RT2', 'RT3', 'RT4'], dtype=object)"
      ]
     },
     "execution_count": 20,
     "metadata": {},
     "output_type": "execute_result"
    }
   ],
   "source": [
    "df_aggregated_bookings['room_category'].unique()"
   ]
  },
  {
   "cell_type": "code",
   "execution_count": 21,
   "id": "1b4e5244-40ff-4f25-952f-a87c253f37ff",
   "metadata": {},
   "outputs": [
    {
     "data": {
      "text/html": [
       "<div>\n",
       "<style scoped>\n",
       "    .dataframe tbody tr th:only-of-type {\n",
       "        vertical-align: middle;\n",
       "    }\n",
       "\n",
       "    .dataframe tbody tr th {\n",
       "        vertical-align: top;\n",
       "    }\n",
       "\n",
       "    .dataframe thead th {\n",
       "        text-align: right;\n",
       "    }\n",
       "</style>\n",
       "<table border=\"1\" class=\"dataframe\">\n",
       "  <thead>\n",
       "    <tr style=\"text-align: right;\">\n",
       "      <th></th>\n",
       "      <th>booking_id</th>\n",
       "      <th>property_id</th>\n",
       "      <th>booking_date</th>\n",
       "      <th>check_in_date</th>\n",
       "      <th>checkout_date</th>\n",
       "      <th>no_guests</th>\n",
       "      <th>room_category</th>\n",
       "      <th>booking_platform</th>\n",
       "      <th>ratings_given</th>\n",
       "      <th>booking_status</th>\n",
       "      <th>revenue_generated</th>\n",
       "      <th>revenue_realized</th>\n",
       "    </tr>\n",
       "  </thead>\n",
       "  <tbody>\n",
       "    <tr>\n",
       "      <th>0</th>\n",
       "      <td>May012216558RT14</td>\n",
       "      <td>16558</td>\n",
       "      <td>2022-04-28</td>\n",
       "      <td>2022-05-01</td>\n",
       "      <td>2022-05-02</td>\n",
       "      <td>2</td>\n",
       "      <td>RT1</td>\n",
       "      <td>others</td>\n",
       "      <td>NaN</td>\n",
       "      <td>Cancelled</td>\n",
       "      <td>91000000</td>\n",
       "      <td>3640</td>\n",
       "    </tr>\n",
       "    <tr>\n",
       "      <th>1</th>\n",
       "      <td>May012216559RT43</td>\n",
       "      <td>16559</td>\n",
       "      <td>2022-05-01</td>\n",
       "      <td>2022-05-01</td>\n",
       "      <td>2022-05-02</td>\n",
       "      <td>6</td>\n",
       "      <td>RT4</td>\n",
       "      <td>tripster</td>\n",
       "      <td>3.0</td>\n",
       "      <td>Checked Out</td>\n",
       "      <td>45220</td>\n",
       "      <td>45220</td>\n",
       "    </tr>\n",
       "    <tr>\n",
       "      <th>2</th>\n",
       "      <td>May012217560RT46</td>\n",
       "      <td>17560</td>\n",
       "      <td>2022-04-28</td>\n",
       "      <td>2022-05-01</td>\n",
       "      <td>2022-05-02</td>\n",
       "      <td>6</td>\n",
       "      <td>RT4</td>\n",
       "      <td>makeyourtrip</td>\n",
       "      <td>3.0</td>\n",
       "      <td>Checked Out</td>\n",
       "      <td>45220</td>\n",
       "      <td>45220</td>\n",
       "    </tr>\n",
       "    <tr>\n",
       "      <th>3</th>\n",
       "      <td>May012217560RT410</td>\n",
       "      <td>17560</td>\n",
       "      <td>2022-05-01</td>\n",
       "      <td>2022-05-01</td>\n",
       "      <td>2022-05-04</td>\n",
       "      <td>6</td>\n",
       "      <td>RT4</td>\n",
       "      <td>others</td>\n",
       "      <td>2.0</td>\n",
       "      <td>Checked Out</td>\n",
       "      <td>45220</td>\n",
       "      <td>45220</td>\n",
       "    </tr>\n",
       "    <tr>\n",
       "      <th>4</th>\n",
       "      <td>May022216559RT47</td>\n",
       "      <td>16559</td>\n",
       "      <td>2022-04-28</td>\n",
       "      <td>2022-05-02</td>\n",
       "      <td>2022-05-04</td>\n",
       "      <td>6</td>\n",
       "      <td>RT4</td>\n",
       "      <td>logtrip</td>\n",
       "      <td>NaN</td>\n",
       "      <td>Checked Out</td>\n",
       "      <td>45220</td>\n",
       "      <td>45220</td>\n",
       "    </tr>\n",
       "  </tbody>\n",
       "</table>\n",
       "</div>"
      ],
      "text/plain": [
       "          booking_id  property_id booking_date check_in_date checkout_date  \\\n",
       "0   May012216558RT14        16558   2022-04-28    2022-05-01    2022-05-02   \n",
       "1   May012216559RT43        16559   2022-05-01    2022-05-01    2022-05-02   \n",
       "2   May012217560RT46        17560   2022-04-28    2022-05-01    2022-05-02   \n",
       "3  May012217560RT410        17560   2022-05-01    2022-05-01    2022-05-04   \n",
       "4   May022216559RT47        16559   2022-04-28    2022-05-02    2022-05-04   \n",
       "\n",
       "   no_guests room_category booking_platform  ratings_given booking_status  \\\n",
       "0          2           RT1           others            NaN      Cancelled   \n",
       "1          6           RT4         tripster            3.0    Checked Out   \n",
       "2          6           RT4     makeyourtrip            3.0    Checked Out   \n",
       "3          6           RT4           others            2.0    Checked Out   \n",
       "4          6           RT4          logtrip            NaN    Checked Out   \n",
       "\n",
       "   revenue_generated  revenue_realized  \n",
       "0           91000000              3640  \n",
       "1              45220             45220  \n",
       "2              45220             45220  \n",
       "3              45220             45220  \n",
       "4              45220             45220  "
      ]
     },
     "execution_count": 21,
     "metadata": {},
     "output_type": "execute_result"
    }
   ],
   "source": [
    "df_bookings.head()"
   ]
  },
  {
   "cell_type": "code",
   "execution_count": 22,
   "id": "bef5b729-5df2-4fa4-99db-bb1109d1beea",
   "metadata": {},
   "outputs": [
    {
     "data": {
      "text/html": [
       "<div>\n",
       "<style scoped>\n",
       "    .dataframe tbody tr th:only-of-type {\n",
       "        vertical-align: middle;\n",
       "    }\n",
       "\n",
       "    .dataframe tbody tr th {\n",
       "        vertical-align: top;\n",
       "    }\n",
       "\n",
       "    .dataframe thead th {\n",
       "        text-align: right;\n",
       "    }\n",
       "</style>\n",
       "<table border=\"1\" class=\"dataframe\">\n",
       "  <thead>\n",
       "    <tr style=\"text-align: right;\">\n",
       "      <th></th>\n",
       "      <th>booking_id</th>\n",
       "      <th>property_id</th>\n",
       "      <th>booking_date</th>\n",
       "      <th>check_in_date</th>\n",
       "      <th>checkout_date</th>\n",
       "      <th>no_guests</th>\n",
       "      <th>room_category</th>\n",
       "      <th>booking_platform</th>\n",
       "      <th>ratings_given</th>\n",
       "      <th>booking_status</th>\n",
       "      <th>revenue_generated</th>\n",
       "      <th>revenue_realized</th>\n",
       "    </tr>\n",
       "  </thead>\n",
       "  <tbody>\n",
       "    <tr>\n",
       "      <th>0</th>\n",
       "      <td>May012216558RT14</td>\n",
       "      <td>16558</td>\n",
       "      <td>2022-04-28</td>\n",
       "      <td>2022-05-01</td>\n",
       "      <td>2022-05-02</td>\n",
       "      <td>2</td>\n",
       "      <td>RT1</td>\n",
       "      <td>others</td>\n",
       "      <td>NaN</td>\n",
       "      <td>Cancelled</td>\n",
       "      <td>91000000</td>\n",
       "      <td>3640</td>\n",
       "    </tr>\n",
       "    <tr>\n",
       "      <th>1</th>\n",
       "      <td>May012216559RT43</td>\n",
       "      <td>16559</td>\n",
       "      <td>2022-05-01</td>\n",
       "      <td>2022-05-01</td>\n",
       "      <td>2022-05-02</td>\n",
       "      <td>6</td>\n",
       "      <td>RT4</td>\n",
       "      <td>tripster</td>\n",
       "      <td>3.0</td>\n",
       "      <td>Checked Out</td>\n",
       "      <td>45220</td>\n",
       "      <td>45220</td>\n",
       "    </tr>\n",
       "    <tr>\n",
       "      <th>2</th>\n",
       "      <td>May012217560RT46</td>\n",
       "      <td>17560</td>\n",
       "      <td>2022-04-28</td>\n",
       "      <td>2022-05-01</td>\n",
       "      <td>2022-05-02</td>\n",
       "      <td>6</td>\n",
       "      <td>RT4</td>\n",
       "      <td>makeyourtrip</td>\n",
       "      <td>3.0</td>\n",
       "      <td>Checked Out</td>\n",
       "      <td>45220</td>\n",
       "      <td>45220</td>\n",
       "    </tr>\n",
       "    <tr>\n",
       "      <th>3</th>\n",
       "      <td>May012217560RT410</td>\n",
       "      <td>17560</td>\n",
       "      <td>2022-05-01</td>\n",
       "      <td>2022-05-01</td>\n",
       "      <td>2022-05-04</td>\n",
       "      <td>6</td>\n",
       "      <td>RT4</td>\n",
       "      <td>others</td>\n",
       "      <td>2.0</td>\n",
       "      <td>Checked Out</td>\n",
       "      <td>45220</td>\n",
       "      <td>45220</td>\n",
       "    </tr>\n",
       "    <tr>\n",
       "      <th>4</th>\n",
       "      <td>May022216559RT47</td>\n",
       "      <td>16559</td>\n",
       "      <td>2022-04-28</td>\n",
       "      <td>2022-05-02</td>\n",
       "      <td>2022-05-04</td>\n",
       "      <td>6</td>\n",
       "      <td>RT4</td>\n",
       "      <td>logtrip</td>\n",
       "      <td>NaN</td>\n",
       "      <td>Checked Out</td>\n",
       "      <td>45220</td>\n",
       "      <td>45220</td>\n",
       "    </tr>\n",
       "  </tbody>\n",
       "</table>\n",
       "</div>"
      ],
      "text/plain": [
       "          booking_id  property_id booking_date check_in_date checkout_date  \\\n",
       "0   May012216558RT14        16558   2022-04-28    2022-05-01    2022-05-02   \n",
       "1   May012216559RT43        16559   2022-05-01    2022-05-01    2022-05-02   \n",
       "2   May012217560RT46        17560   2022-04-28    2022-05-01    2022-05-02   \n",
       "3  May012217560RT410        17560   2022-05-01    2022-05-01    2022-05-04   \n",
       "4   May022216559RT47        16559   2022-04-28    2022-05-02    2022-05-04   \n",
       "\n",
       "   no_guests room_category booking_platform  ratings_given booking_status  \\\n",
       "0          2           RT1           others            NaN      Cancelled   \n",
       "1          6           RT4         tripster            3.0    Checked Out   \n",
       "2          6           RT4     makeyourtrip            3.0    Checked Out   \n",
       "3          6           RT4           others            2.0    Checked Out   \n",
       "4          6           RT4          logtrip            NaN    Checked Out   \n",
       "\n",
       "   revenue_generated  revenue_realized  \n",
       "0           91000000              3640  \n",
       "1              45220             45220  \n",
       "2              45220             45220  \n",
       "3              45220             45220  \n",
       "4              45220             45220  "
      ]
     },
     "execution_count": 22,
     "metadata": {},
     "output_type": "execute_result"
    }
   ],
   "source": [
    "df_bookings.head(5) # There is a negative values in no_guests which cannot be True."
   ]
  },
  {
   "cell_type": "code",
   "execution_count": 23,
   "id": "4c08dd4f-ed72-496b-bc18-36a4b6d040c1",
   "metadata": {},
   "outputs": [
    {
     "data": {
      "text/plain": [
       "(134590, 12)"
      ]
     },
     "execution_count": 23,
     "metadata": {},
     "output_type": "execute_result"
    }
   ],
   "source": [
    "df_bookings.shape"
   ]
  },
  {
   "cell_type": "code",
   "execution_count": 24,
   "id": "935ff5d4-cfca-4d3f-89fc-314c513de897",
   "metadata": {},
   "outputs": [
    {
     "data": {
      "text/plain": [
       "booking_id               0\n",
       "property_id              0\n",
       "booking_date             0\n",
       "check_in_date            0\n",
       "checkout_date            0\n",
       "no_guests                0\n",
       "room_category            0\n",
       "booking_platform         0\n",
       "ratings_given        77907\n",
       "booking_status           0\n",
       "revenue_generated        0\n",
       "revenue_realized         0\n",
       "dtype: int64"
      ]
     },
     "execution_count": 24,
     "metadata": {},
     "output_type": "execute_result"
    }
   ],
   "source": [
    "df_bookings.isnull().sum() # There are 77907 null values in ratings_given dataset."
   ]
  },
  {
   "cell_type": "code",
   "execution_count": 25,
   "id": "153ab9ca-0577-410b-9c31-5f7511b11236",
   "metadata": {},
   "outputs": [
    {
     "data": {
      "text/plain": [
       "np.float64(57.88)"
      ]
     },
     "execution_count": 25,
     "metadata": {},
     "output_type": "execute_result"
    }
   ],
   "source": [
    "round((df_bookings['ratings_given'].isnull().sum() / df_bookings.shape[0])*100,2) # 57.88% ratings_given contains NULL values."
   ]
  },
  {
   "cell_type": "code",
   "execution_count": 26,
   "id": "fe493a4d-be5d-401c-b5a2-1f71e2ac3945",
   "metadata": {},
   "outputs": [
    {
     "data": {
      "text/plain": [
       "array(['others', 'tripster', 'makeyourtrip', 'logtrip', 'direct offline',\n",
       "       'direct online', 'journey'], dtype=object)"
      ]
     },
     "execution_count": 26,
     "metadata": {},
     "output_type": "execute_result"
    }
   ],
   "source": [
    "df_bookings['booking_platform'].unique()"
   ]
  },
  {
   "cell_type": "code",
   "execution_count": 27,
   "id": "b4c549ae-d8a4-4984-b73e-4f070278f693",
   "metadata": {},
   "outputs": [
    {
     "data": {
      "text/plain": [
       "array(['Cancelled', 'Checked Out', 'No Show'], dtype=object)"
      ]
     },
     "execution_count": 27,
     "metadata": {},
     "output_type": "execute_result"
    }
   ],
   "source": [
    "df_bookings['booking_status'].unique()"
   ]
  },
  {
   "cell_type": "code",
   "execution_count": 28,
   "id": "7d7e620e-6bfa-4ce9-9519-855d771a7b7a",
   "metadata": {},
   "outputs": [
    {
     "data": {
      "text/html": [
       "<div>\n",
       "<style scoped>\n",
       "    .dataframe tbody tr th:only-of-type {\n",
       "        vertical-align: middle;\n",
       "    }\n",
       "\n",
       "    .dataframe tbody tr th {\n",
       "        vertical-align: top;\n",
       "    }\n",
       "\n",
       "    .dataframe thead th {\n",
       "        text-align: right;\n",
       "    }\n",
       "</style>\n",
       "<table border=\"1\" class=\"dataframe\">\n",
       "  <thead>\n",
       "    <tr style=\"text-align: right;\">\n",
       "      <th></th>\n",
       "      <th>property_id</th>\n",
       "      <th>no_guests</th>\n",
       "      <th>ratings_given</th>\n",
       "      <th>revenue_generated</th>\n",
       "      <th>revenue_realized</th>\n",
       "    </tr>\n",
       "  </thead>\n",
       "  <tbody>\n",
       "    <tr>\n",
       "      <th>count</th>\n",
       "      <td>134590.000000</td>\n",
       "      <td>134590.000000</td>\n",
       "      <td>56683.000000</td>\n",
       "      <td>1.345900e+05</td>\n",
       "      <td>1.345900e+05</td>\n",
       "    </tr>\n",
       "    <tr>\n",
       "      <th>mean</th>\n",
       "      <td>18061.113493</td>\n",
       "      <td>2.036808</td>\n",
       "      <td>3.619004</td>\n",
       "      <td>1.560754e+04</td>\n",
       "      <td>1.300164e+04</td>\n",
       "    </tr>\n",
       "    <tr>\n",
       "      <th>std</th>\n",
       "      <td>1093.055847</td>\n",
       "      <td>1.031766</td>\n",
       "      <td>1.235009</td>\n",
       "      <td>2.481231e+05</td>\n",
       "      <td>8.532414e+04</td>\n",
       "    </tr>\n",
       "    <tr>\n",
       "      <th>min</th>\n",
       "      <td>16558.000000</td>\n",
       "      <td>1.000000</td>\n",
       "      <td>1.000000</td>\n",
       "      <td>6.500000e+03</td>\n",
       "      <td>2.600000e+03</td>\n",
       "    </tr>\n",
       "    <tr>\n",
       "      <th>25%</th>\n",
       "      <td>17558.000000</td>\n",
       "      <td>1.000000</td>\n",
       "      <td>3.000000</td>\n",
       "      <td>9.900000e+03</td>\n",
       "      <td>7.600000e+03</td>\n",
       "    </tr>\n",
       "    <tr>\n",
       "      <th>50%</th>\n",
       "      <td>17564.000000</td>\n",
       "      <td>2.000000</td>\n",
       "      <td>4.000000</td>\n",
       "      <td>1.350000e+04</td>\n",
       "      <td>1.170000e+04</td>\n",
       "    </tr>\n",
       "    <tr>\n",
       "      <th>75%</th>\n",
       "      <td>18563.000000</td>\n",
       "      <td>2.000000</td>\n",
       "      <td>5.000000</td>\n",
       "      <td>1.800000e+04</td>\n",
       "      <td>1.530000e+04</td>\n",
       "    </tr>\n",
       "    <tr>\n",
       "      <th>max</th>\n",
       "      <td>19563.000000</td>\n",
       "      <td>6.000000</td>\n",
       "      <td>5.000000</td>\n",
       "      <td>9.100000e+07</td>\n",
       "      <td>2.856000e+07</td>\n",
       "    </tr>\n",
       "  </tbody>\n",
       "</table>\n",
       "</div>"
      ],
      "text/plain": [
       "         property_id      no_guests  ratings_given  revenue_generated  \\\n",
       "count  134590.000000  134590.000000   56683.000000       1.345900e+05   \n",
       "mean    18061.113493       2.036808       3.619004       1.560754e+04   \n",
       "std      1093.055847       1.031766       1.235009       2.481231e+05   \n",
       "min     16558.000000       1.000000       1.000000       6.500000e+03   \n",
       "25%     17558.000000       1.000000       3.000000       9.900000e+03   \n",
       "50%     17564.000000       2.000000       4.000000       1.350000e+04   \n",
       "75%     18563.000000       2.000000       5.000000       1.800000e+04   \n",
       "max     19563.000000       6.000000       5.000000       9.100000e+07   \n",
       "\n",
       "       revenue_realized  \n",
       "count      1.345900e+05  \n",
       "mean       1.300164e+04  \n",
       "std        8.532414e+04  \n",
       "min        2.600000e+03  \n",
       "25%        7.600000e+03  \n",
       "50%        1.170000e+04  \n",
       "75%        1.530000e+04  \n",
       "max        2.856000e+07  "
      ]
     },
     "execution_count": 28,
     "metadata": {},
     "output_type": "execute_result"
    }
   ],
   "source": [
    "df_bookings.describe()"
   ]
  },
  {
   "cell_type": "markdown",
   "id": "0247b714-6ca3-423a-854e-333b98f974ef",
   "metadata": {},
   "source": [
    "# Data Cleaning"
   ]
  },
  {
   "cell_type": "markdown",
   "id": "888af3e1-c0b6-45ff-8de3-ff35d8ddb074",
   "metadata": {},
   "source": [
    "# Changing date column to Date Time from Object Data-type and fixing irregular day type column."
   ]
  },
  {
   "cell_type": "code",
   "execution_count": 29,
   "id": "2efd4163-f01a-4b49-8387-11464fbd4c64",
   "metadata": {},
   "outputs": [
    {
     "name": "stdout",
     "output_type": "stream",
     "text": [
      "<class 'pandas.core.series.Series'>\n",
      "RangeIndex: 92 entries, 0 to 91\n",
      "Series name: date\n",
      "Non-Null Count  Dtype \n",
      "--------------  ----- \n",
      "92 non-null     object\n",
      "dtypes: object(1)\n",
      "memory usage: 868.0+ bytes\n"
     ]
    }
   ],
   "source": [
    "df_date['date'].info()"
   ]
  },
  {
   "cell_type": "code",
   "execution_count": 30,
   "id": "cf9be133-2af1-4213-a285-8d83180f00fb",
   "metadata": {},
   "outputs": [
    {
     "name": "stdout",
     "output_type": "stream",
     "text": [
      "<class 'pandas.core.frame.DataFrame'>\n",
      "RangeIndex: 92 entries, 0 to 91\n",
      "Data columns (total 4 columns):\n",
      " #   Column    Non-Null Count  Dtype         \n",
      "---  ------    --------------  -----         \n",
      " 0   date      92 non-null     datetime64[ns]\n",
      " 1   mmm yy    92 non-null     object        \n",
      " 2   week no   92 non-null     object        \n",
      " 3   day_type  92 non-null     object        \n",
      "dtypes: datetime64[ns](1), object(3)\n",
      "memory usage: 3.0+ KB\n"
     ]
    }
   ],
   "source": [
    "df_date['date'] = pd.to_datetime(df_date['date'],format='%d-%b-%y')\n",
    "df_date.info()  # Date data type changed to datetime."
   ]
  },
  {
   "cell_type": "code",
   "execution_count": 31,
   "id": "12531977-9272-40c4-8b10-79d2d0fca9ff",
   "metadata": {},
   "outputs": [
    {
     "data": {
      "text/html": [
       "<div>\n",
       "<style scoped>\n",
       "    .dataframe tbody tr th:only-of-type {\n",
       "        vertical-align: middle;\n",
       "    }\n",
       "\n",
       "    .dataframe tbody tr th {\n",
       "        vertical-align: top;\n",
       "    }\n",
       "\n",
       "    .dataframe thead th {\n",
       "        text-align: right;\n",
       "    }\n",
       "</style>\n",
       "<table border=\"1\" class=\"dataframe\">\n",
       "  <thead>\n",
       "    <tr style=\"text-align: right;\">\n",
       "      <th></th>\n",
       "      <th>date</th>\n",
       "      <th>mmm yy</th>\n",
       "      <th>week no</th>\n",
       "      <th>day_type</th>\n",
       "      <th>Year</th>\n",
       "      <th>Month</th>\n",
       "      <th>Month Name</th>\n",
       "    </tr>\n",
       "  </thead>\n",
       "  <tbody>\n",
       "    <tr>\n",
       "      <th>0</th>\n",
       "      <td>2022-05-01</td>\n",
       "      <td>22-May</td>\n",
       "      <td>W 19</td>\n",
       "      <td>weekend</td>\n",
       "      <td>2022</td>\n",
       "      <td>5</td>\n",
       "      <td>May</td>\n",
       "    </tr>\n",
       "    <tr>\n",
       "      <th>1</th>\n",
       "      <td>2022-05-02</td>\n",
       "      <td>22-May</td>\n",
       "      <td>W 19</td>\n",
       "      <td>weekeday</td>\n",
       "      <td>2022</td>\n",
       "      <td>5</td>\n",
       "      <td>May</td>\n",
       "    </tr>\n",
       "    <tr>\n",
       "      <th>2</th>\n",
       "      <td>2022-05-03</td>\n",
       "      <td>22-May</td>\n",
       "      <td>W 19</td>\n",
       "      <td>Weekeday</td>\n",
       "      <td>2022</td>\n",
       "      <td>5</td>\n",
       "      <td>May</td>\n",
       "    </tr>\n",
       "    <tr>\n",
       "      <th>3</th>\n",
       "      <td>2022-05-04</td>\n",
       "      <td>22-May</td>\n",
       "      <td>W 19</td>\n",
       "      <td>weekeday</td>\n",
       "      <td>2022</td>\n",
       "      <td>5</td>\n",
       "      <td>May</td>\n",
       "    </tr>\n",
       "    <tr>\n",
       "      <th>4</th>\n",
       "      <td>2022-05-05</td>\n",
       "      <td>22-May</td>\n",
       "      <td>W 19</td>\n",
       "      <td>weekeday</td>\n",
       "      <td>2022</td>\n",
       "      <td>5</td>\n",
       "      <td>May</td>\n",
       "    </tr>\n",
       "  </tbody>\n",
       "</table>\n",
       "</div>"
      ],
      "text/plain": [
       "        date  mmm yy week no  day_type  Year  Month Month Name\n",
       "0 2022-05-01  22-May    W 19   weekend  2022      5        May\n",
       "1 2022-05-02  22-May    W 19  weekeday  2022      5        May\n",
       "2 2022-05-03  22-May    W 19  Weekeday  2022      5        May\n",
       "3 2022-05-04  22-May    W 19  weekeday  2022      5        May\n",
       "4 2022-05-05  22-May    W 19  weekeday  2022      5        May"
      ]
     },
     "execution_count": 31,
     "metadata": {},
     "output_type": "execute_result"
    }
   ],
   "source": [
    "# Adding Year and Month Column in the data frame.\n",
    "\n",
    "df_date['Year'] = df_date['date'].dt.year # Extracting Date\n",
    "df_date['Month'] = df_date['date'].dt.month # Extracting Month\n",
    "df_date['Month Name'] = df_date['mmm yy'].str.split('-').str[1] # Extracting Month Name using string split method.\n",
    "\n",
    "df_date.head()"
   ]
  },
  {
   "cell_type": "code",
   "execution_count": 32,
   "id": "af5e92dd-9ecc-4bae-a4e3-9d9deb668c05",
   "metadata": {},
   "outputs": [
    {
     "data": {
      "text/plain": [
       "array(['weekend', 'weekeday', 'Weekeday', 'Weekend', 'week end'],\n",
       "      dtype=object)"
      ]
     },
     "execution_count": 32,
     "metadata": {},
     "output_type": "execute_result"
    }
   ],
   "source": [
    "df_date['day_type'].unique()"
   ]
  },
  {
   "cell_type": "code",
   "execution_count": 33,
   "id": "2fa97bdc-9b1b-4e41-bf5f-2ed06139c856",
   "metadata": {},
   "outputs": [],
   "source": [
    "df_date['day_type'] = df_date['day_type'].str.lower()\n",
    "df_date['day_type'] = df_date['day_type'].replace({\n",
    "    'week end':'weekend',\n",
    "    'weekeday':'weekday',\n",
    "    'weekend':'weekend',\n",
    "},regex=False)"
   ]
  },
  {
   "cell_type": "code",
   "execution_count": 34,
   "id": "92c273a0-42cd-4b02-b8fb-0592c0e2a1da",
   "metadata": {},
   "outputs": [
    {
     "data": {
      "text/plain": [
       "array(['weekend', 'weekday'], dtype=object)"
      ]
     },
     "execution_count": 34,
     "metadata": {},
     "output_type": "execute_result"
    }
   ],
   "source": [
    "df_date['day_type'].unique() # Now we have 2 unique values."
   ]
  },
  {
   "cell_type": "markdown",
   "id": "93a8b816-b4a8-4295-a8ab-44570a43dbb9",
   "metadata": {},
   "source": [
    "# Fixing the irregular values in property name and category feature in hotels data frame."
   ]
  },
  {
   "cell_type": "code",
   "execution_count": 35,
   "id": "9e752087-a0a3-49c9-ab6c-e9d31bfec487",
   "metadata": {},
   "outputs": [
    {
     "data": {
      "text/plain": [
       "array(['Atliq Grands', 'Atliq Exotica', 'Atliq City', 'Atliq Blu',\n",
       "       'Atliq Bay', 'Atliq Palacee', 'Atliq Palace', 'Atliq Cityy',\n",
       "       'Atliq Seasons'], dtype=object)"
      ]
     },
     "execution_count": 35,
     "metadata": {},
     "output_type": "execute_result"
    }
   ],
   "source": [
    "df_hotels['property_name'].unique() "
   ]
  },
  {
   "cell_type": "code",
   "execution_count": 36,
   "id": "5861bb6f-f87d-47db-b836-ff25c0ee5e37",
   "metadata": {},
   "outputs": [
    {
     "data": {
      "text/plain": [
       "property_name\n",
       "Atliq Grands     4\n",
       "Atliq Exotica    4\n",
       "Atliq City       4\n",
       "Atliq Blu        4\n",
       "Atliq Bay        4\n",
       "Atliq Palace     4\n",
       "Atliq Seasons    1\n",
       "Name: count, dtype: int64"
      ]
     },
     "execution_count": 36,
     "metadata": {},
     "output_type": "execute_result"
    }
   ],
   "source": [
    "df_hotels['property_name'] = df_hotels['property_name'].replace({\n",
    "    'Atliq Palacee':'Atliq Palace',\n",
    "    'Atliq Cityy':'Atliq City',\n",
    "})\n",
    "\n",
    "df_hotels['property_name'].value_counts()"
   ]
  },
  {
   "cell_type": "code",
   "execution_count": 37,
   "id": "9a1a44c7-5fe0-4bfe-aa5a-71448dd74b6a",
   "metadata": {},
   "outputs": [
    {
     "data": {
      "text/plain": [
       "array(['Luxury', 'Business', 'Businesss', 'Luxuury'], dtype=object)"
      ]
     },
     "execution_count": 37,
     "metadata": {},
     "output_type": "execute_result"
    }
   ],
   "source": [
    "df_hotels['category'].unique()"
   ]
  },
  {
   "cell_type": "code",
   "execution_count": 38,
   "id": "08385b5d-b504-4325-b756-0ef1b7603725",
   "metadata": {},
   "outputs": [
    {
     "data": {
      "text/plain": [
       "array(['Luxury', 'Business'], dtype=object)"
      ]
     },
     "execution_count": 38,
     "metadata": {},
     "output_type": "execute_result"
    }
   ],
   "source": [
    "df_hotels['category'] = df_hotels['category'].replace({\n",
    "    'Businesss':'Business',\n",
    "    'Luxuury':'Luxury'\n",
    "})\n",
    "\n",
    "df_hotels['category'].unique()"
   ]
  },
  {
   "cell_type": "code",
   "execution_count": 39,
   "id": "9be78855-4e42-44e9-887a-c6031076fad0",
   "metadata": {},
   "outputs": [
    {
     "data": {
      "text/plain": [
       "array(['Delhi', 'Mumbai', 'Hyderabad', 'Bangalore'], dtype=object)"
      ]
     },
     "execution_count": 39,
     "metadata": {},
     "output_type": "execute_result"
    }
   ],
   "source": [
    "df_hotels['city'].unique()"
   ]
  },
  {
   "cell_type": "markdown",
   "id": "e59bfbbb-fe98-4009-b9d3-21fa4395eafc",
   "metadata": {},
   "source": [
    "# Filling the null values and changing check in date data type in aggregated bookings Data Frame."
   ]
  },
  {
   "cell_type": "code",
   "execution_count": 40,
   "id": "2fbb6aa6-8693-4cb8-af45-cd1b80b5563a",
   "metadata": {},
   "outputs": [
    {
     "data": {
      "text/html": [
       "<div>\n",
       "<style scoped>\n",
       "    .dataframe tbody tr th:only-of-type {\n",
       "        vertical-align: middle;\n",
       "    }\n",
       "\n",
       "    .dataframe tbody tr th {\n",
       "        vertical-align: top;\n",
       "    }\n",
       "\n",
       "    .dataframe thead th {\n",
       "        text-align: right;\n",
       "    }\n",
       "</style>\n",
       "<table border=\"1\" class=\"dataframe\">\n",
       "  <thead>\n",
       "    <tr style=\"text-align: right;\">\n",
       "      <th></th>\n",
       "      <th>property_id</th>\n",
       "      <th>check_in_date</th>\n",
       "      <th>room_category</th>\n",
       "      <th>successful_bookings</th>\n",
       "      <th>capacity</th>\n",
       "    </tr>\n",
       "  </thead>\n",
       "  <tbody>\n",
       "    <tr>\n",
       "      <th>8</th>\n",
       "      <td>17561</td>\n",
       "      <td>1-May-22</td>\n",
       "      <td>RT1</td>\n",
       "      <td>22</td>\n",
       "      <td>NaN</td>\n",
       "    </tr>\n",
       "    <tr>\n",
       "      <th>14</th>\n",
       "      <td>17562</td>\n",
       "      <td>1-May-22</td>\n",
       "      <td>RT1</td>\n",
       "      <td>12</td>\n",
       "      <td>NaN</td>\n",
       "    </tr>\n",
       "  </tbody>\n",
       "</table>\n",
       "</div>"
      ],
      "text/plain": [
       "    property_id check_in_date room_category  successful_bookings  capacity\n",
       "8         17561      1-May-22           RT1                   22       NaN\n",
       "14        17562      1-May-22           RT1                   12       NaN"
      ]
     },
     "execution_count": 40,
     "metadata": {},
     "output_type": "execute_result"
    }
   ],
   "source": [
    "df_aggregated_bookings[df_aggregated_bookings['capacity'].isnull()]"
   ]
  },
  {
   "cell_type": "code",
   "execution_count": 41,
   "id": "4855153e-1645-4812-8144-77457cb51ef0",
   "metadata": {},
   "outputs": [
    {
     "data": {
      "text/plain": [
       "property_id            0\n",
       "check_in_date          0\n",
       "room_category          0\n",
       "successful_bookings    0\n",
       "capacity               0\n",
       "dtype: int64"
      ]
     },
     "execution_count": 41,
     "metadata": {},
     "output_type": "execute_result"
    }
   ],
   "source": [
    "# Filling the nulls values in capacity column using mean imputation method by room_category\n",
    "\n",
    "rt1_mean = round(df_aggregated_bookings[df_aggregated_bookings['room_category']=='RT1']['capacity'].mean())\n",
    "df_aggregated_bookings['capacity'] = df_aggregated_bookings['capacity'].fillna(rt1_mean)\n",
    "df_aggregated_bookings.isnull().sum()"
   ]
  },
  {
   "cell_type": "code",
   "execution_count": 42,
   "id": "7e41b4dd-82a0-4380-8a15-2e577f4e91ea",
   "metadata": {},
   "outputs": [
    {
     "name": "stdout",
     "output_type": "stream",
     "text": [
      "<class 'pandas.core.frame.DataFrame'>\n",
      "RangeIndex: 9200 entries, 0 to 9199\n",
      "Data columns (total 5 columns):\n",
      " #   Column               Non-Null Count  Dtype  \n",
      "---  ------               --------------  -----  \n",
      " 0   property_id          9200 non-null   int64  \n",
      " 1   check_in_date        9200 non-null   object \n",
      " 2   room_category        9200 non-null   object \n",
      " 3   successful_bookings  9200 non-null   int64  \n",
      " 4   capacity             9200 non-null   float64\n",
      "dtypes: float64(1), int64(2), object(2)\n",
      "memory usage: 359.5+ KB\n"
     ]
    }
   ],
   "source": [
    "df_aggregated_bookings.info()"
   ]
  },
  {
   "cell_type": "code",
   "execution_count": 43,
   "id": "7b9d350f-80e2-4187-a4d1-09aa09fb0a6c",
   "metadata": {},
   "outputs": [
    {
     "name": "stdout",
     "output_type": "stream",
     "text": [
      "<class 'pandas.core.series.Series'>\n",
      "RangeIndex: 9200 entries, 0 to 9199\n",
      "Series name: check_in_date\n",
      "Non-Null Count  Dtype         \n",
      "--------------  -----         \n",
      "9200 non-null   datetime64[ns]\n",
      "dtypes: datetime64[ns](1)\n",
      "memory usage: 72.0 KB\n"
     ]
    }
   ],
   "source": [
    "df_aggregated_bookings['check_in_date'] = pd.to_datetime(df_aggregated_bookings['check_in_date'],format='%d-%b-%y')\n",
    "df_aggregated_bookings['check_in_date'].info()"
   ]
  },
  {
   "cell_type": "code",
   "execution_count": 44,
   "id": "5b332a97-055a-4f1e-b63d-517bdb7c9d76",
   "metadata": {},
   "outputs": [
    {
     "data": {
      "text/html": [
       "<div>\n",
       "<style scoped>\n",
       "    .dataframe tbody tr th:only-of-type {\n",
       "        vertical-align: middle;\n",
       "    }\n",
       "\n",
       "    .dataframe tbody tr th {\n",
       "        vertical-align: top;\n",
       "    }\n",
       "\n",
       "    .dataframe thead th {\n",
       "        text-align: right;\n",
       "    }\n",
       "</style>\n",
       "<table border=\"1\" class=\"dataframe\">\n",
       "  <thead>\n",
       "    <tr style=\"text-align: right;\">\n",
       "      <th></th>\n",
       "      <th>property_id</th>\n",
       "      <th>check_in_date</th>\n",
       "      <th>room_category</th>\n",
       "      <th>successful_bookings</th>\n",
       "      <th>capacity</th>\n",
       "    </tr>\n",
       "  </thead>\n",
       "  <tbody>\n",
       "    <tr>\n",
       "      <th>0</th>\n",
       "      <td>16559</td>\n",
       "      <td>2022-05-01</td>\n",
       "      <td>RT1</td>\n",
       "      <td>25</td>\n",
       "      <td>30.0</td>\n",
       "    </tr>\n",
       "    <tr>\n",
       "      <th>1</th>\n",
       "      <td>19562</td>\n",
       "      <td>2022-05-01</td>\n",
       "      <td>RT1</td>\n",
       "      <td>28</td>\n",
       "      <td>30.0</td>\n",
       "    </tr>\n",
       "    <tr>\n",
       "      <th>2</th>\n",
       "      <td>19563</td>\n",
       "      <td>2022-05-01</td>\n",
       "      <td>RT1</td>\n",
       "      <td>23</td>\n",
       "      <td>30.0</td>\n",
       "    </tr>\n",
       "    <tr>\n",
       "      <th>3</th>\n",
       "      <td>17558</td>\n",
       "      <td>2022-05-01</td>\n",
       "      <td>RT1</td>\n",
       "      <td>30</td>\n",
       "      <td>19.0</td>\n",
       "    </tr>\n",
       "    <tr>\n",
       "      <th>4</th>\n",
       "      <td>16558</td>\n",
       "      <td>2022-05-01</td>\n",
       "      <td>RT1</td>\n",
       "      <td>18</td>\n",
       "      <td>19.0</td>\n",
       "    </tr>\n",
       "    <tr>\n",
       "      <th>...</th>\n",
       "      <td>...</td>\n",
       "      <td>...</td>\n",
       "      <td>...</td>\n",
       "      <td>...</td>\n",
       "      <td>...</td>\n",
       "    </tr>\n",
       "    <tr>\n",
       "      <th>9195</th>\n",
       "      <td>16563</td>\n",
       "      <td>2022-07-31</td>\n",
       "      <td>RT4</td>\n",
       "      <td>13</td>\n",
       "      <td>18.0</td>\n",
       "    </tr>\n",
       "    <tr>\n",
       "      <th>9196</th>\n",
       "      <td>16559</td>\n",
       "      <td>2022-07-31</td>\n",
       "      <td>RT4</td>\n",
       "      <td>13</td>\n",
       "      <td>18.0</td>\n",
       "    </tr>\n",
       "    <tr>\n",
       "      <th>9197</th>\n",
       "      <td>17558</td>\n",
       "      <td>2022-07-31</td>\n",
       "      <td>RT4</td>\n",
       "      <td>3</td>\n",
       "      <td>6.0</td>\n",
       "    </tr>\n",
       "    <tr>\n",
       "      <th>9198</th>\n",
       "      <td>19563</td>\n",
       "      <td>2022-07-31</td>\n",
       "      <td>RT4</td>\n",
       "      <td>3</td>\n",
       "      <td>6.0</td>\n",
       "    </tr>\n",
       "    <tr>\n",
       "      <th>9199</th>\n",
       "      <td>17561</td>\n",
       "      <td>2022-07-31</td>\n",
       "      <td>RT4</td>\n",
       "      <td>3</td>\n",
       "      <td>4.0</td>\n",
       "    </tr>\n",
       "  </tbody>\n",
       "</table>\n",
       "<p>9200 rows × 5 columns</p>\n",
       "</div>"
      ],
      "text/plain": [
       "      property_id check_in_date room_category  successful_bookings  capacity\n",
       "0           16559    2022-05-01           RT1                   25      30.0\n",
       "1           19562    2022-05-01           RT1                   28      30.0\n",
       "2           19563    2022-05-01           RT1                   23      30.0\n",
       "3           17558    2022-05-01           RT1                   30      19.0\n",
       "4           16558    2022-05-01           RT1                   18      19.0\n",
       "...           ...           ...           ...                  ...       ...\n",
       "9195        16563    2022-07-31           RT4                   13      18.0\n",
       "9196        16559    2022-07-31           RT4                   13      18.0\n",
       "9197        17558    2022-07-31           RT4                    3       6.0\n",
       "9198        19563    2022-07-31           RT4                    3       6.0\n",
       "9199        17561    2022-07-31           RT4                    3       4.0\n",
       "\n",
       "[9200 rows x 5 columns]"
      ]
     },
     "execution_count": 44,
     "metadata": {},
     "output_type": "execute_result"
    }
   ],
   "source": [
    "df_aggregated_bookings # There are some values where successful_bookings > capacity. Need to remove them."
   ]
  },
  {
   "cell_type": "code",
   "execution_count": 45,
   "id": "47adfb93-c96b-4073-b37a-d0df464ce581",
   "metadata": {},
   "outputs": [
    {
     "data": {
      "text/html": [
       "<div>\n",
       "<style scoped>\n",
       "    .dataframe tbody tr th:only-of-type {\n",
       "        vertical-align: middle;\n",
       "    }\n",
       "\n",
       "    .dataframe tbody tr th {\n",
       "        vertical-align: top;\n",
       "    }\n",
       "\n",
       "    .dataframe thead th {\n",
       "        text-align: right;\n",
       "    }\n",
       "</style>\n",
       "<table border=\"1\" class=\"dataframe\">\n",
       "  <thead>\n",
       "    <tr style=\"text-align: right;\">\n",
       "      <th></th>\n",
       "      <th>property_id</th>\n",
       "      <th>check_in_date</th>\n",
       "      <th>room_category</th>\n",
       "      <th>successful_bookings</th>\n",
       "      <th>capacity</th>\n",
       "    </tr>\n",
       "  </thead>\n",
       "  <tbody>\n",
       "    <tr>\n",
       "      <th>0</th>\n",
       "      <td>16559</td>\n",
       "      <td>2022-05-01</td>\n",
       "      <td>RT1</td>\n",
       "      <td>25</td>\n",
       "      <td>30.0</td>\n",
       "    </tr>\n",
       "    <tr>\n",
       "      <th>1</th>\n",
       "      <td>19562</td>\n",
       "      <td>2022-05-01</td>\n",
       "      <td>RT1</td>\n",
       "      <td>28</td>\n",
       "      <td>30.0</td>\n",
       "    </tr>\n",
       "    <tr>\n",
       "      <th>2</th>\n",
       "      <td>19563</td>\n",
       "      <td>2022-05-01</td>\n",
       "      <td>RT1</td>\n",
       "      <td>23</td>\n",
       "      <td>30.0</td>\n",
       "    </tr>\n",
       "    <tr>\n",
       "      <th>4</th>\n",
       "      <td>16558</td>\n",
       "      <td>2022-05-01</td>\n",
       "      <td>RT1</td>\n",
       "      <td>18</td>\n",
       "      <td>19.0</td>\n",
       "    </tr>\n",
       "    <tr>\n",
       "      <th>5</th>\n",
       "      <td>17560</td>\n",
       "      <td>2022-05-01</td>\n",
       "      <td>RT1</td>\n",
       "      <td>28</td>\n",
       "      <td>40.0</td>\n",
       "    </tr>\n",
       "    <tr>\n",
       "      <th>...</th>\n",
       "      <td>...</td>\n",
       "      <td>...</td>\n",
       "      <td>...</td>\n",
       "      <td>...</td>\n",
       "      <td>...</td>\n",
       "    </tr>\n",
       "    <tr>\n",
       "      <th>9195</th>\n",
       "      <td>16563</td>\n",
       "      <td>2022-07-31</td>\n",
       "      <td>RT4</td>\n",
       "      <td>13</td>\n",
       "      <td>18.0</td>\n",
       "    </tr>\n",
       "    <tr>\n",
       "      <th>9196</th>\n",
       "      <td>16559</td>\n",
       "      <td>2022-07-31</td>\n",
       "      <td>RT4</td>\n",
       "      <td>13</td>\n",
       "      <td>18.0</td>\n",
       "    </tr>\n",
       "    <tr>\n",
       "      <th>9197</th>\n",
       "      <td>17558</td>\n",
       "      <td>2022-07-31</td>\n",
       "      <td>RT4</td>\n",
       "      <td>3</td>\n",
       "      <td>6.0</td>\n",
       "    </tr>\n",
       "    <tr>\n",
       "      <th>9198</th>\n",
       "      <td>19563</td>\n",
       "      <td>2022-07-31</td>\n",
       "      <td>RT4</td>\n",
       "      <td>3</td>\n",
       "      <td>6.0</td>\n",
       "    </tr>\n",
       "    <tr>\n",
       "      <th>9199</th>\n",
       "      <td>17561</td>\n",
       "      <td>2022-07-31</td>\n",
       "      <td>RT4</td>\n",
       "      <td>3</td>\n",
       "      <td>4.0</td>\n",
       "    </tr>\n",
       "  </tbody>\n",
       "</table>\n",
       "<p>9194 rows × 5 columns</p>\n",
       "</div>"
      ],
      "text/plain": [
       "      property_id check_in_date room_category  successful_bookings  capacity\n",
       "0           16559    2022-05-01           RT1                   25      30.0\n",
       "1           19562    2022-05-01           RT1                   28      30.0\n",
       "2           19563    2022-05-01           RT1                   23      30.0\n",
       "4           16558    2022-05-01           RT1                   18      19.0\n",
       "5           17560    2022-05-01           RT1                   28      40.0\n",
       "...           ...           ...           ...                  ...       ...\n",
       "9195        16563    2022-07-31           RT4                   13      18.0\n",
       "9196        16559    2022-07-31           RT4                   13      18.0\n",
       "9197        17558    2022-07-31           RT4                    3       6.0\n",
       "9198        19563    2022-07-31           RT4                    3       6.0\n",
       "9199        17561    2022-07-31           RT4                    3       4.0\n",
       "\n",
       "[9194 rows x 5 columns]"
      ]
     },
     "execution_count": 45,
     "metadata": {},
     "output_type": "execute_result"
    }
   ],
   "source": [
    "df_aggregated_bookings = df_aggregated_bookings[df_aggregated_bookings['successful_bookings'] <= df_aggregated_bookings['capacity']]\n",
    "df_aggregated_bookings"
   ]
  },
  {
   "cell_type": "markdown",
   "id": "3f8baa5f-cc49-4584-bccd-3f48ee3eab7b",
   "metadata": {},
   "source": [
    "# Cleaning Bookings Data Frame"
   ]
  },
  {
   "cell_type": "code",
   "execution_count": 46,
   "id": "163dc6b5-fffa-43e2-afbd-362b5dcd2fc4",
   "metadata": {},
   "outputs": [
    {
     "data": {
      "text/html": [
       "<div>\n",
       "<style scoped>\n",
       "    .dataframe tbody tr th:only-of-type {\n",
       "        vertical-align: middle;\n",
       "    }\n",
       "\n",
       "    .dataframe tbody tr th {\n",
       "        vertical-align: top;\n",
       "    }\n",
       "\n",
       "    .dataframe thead th {\n",
       "        text-align: right;\n",
       "    }\n",
       "</style>\n",
       "<table border=\"1\" class=\"dataframe\">\n",
       "  <thead>\n",
       "    <tr style=\"text-align: right;\">\n",
       "      <th></th>\n",
       "      <th>booking_id</th>\n",
       "      <th>property_id</th>\n",
       "      <th>booking_date</th>\n",
       "      <th>check_in_date</th>\n",
       "      <th>checkout_date</th>\n",
       "      <th>no_guests</th>\n",
       "      <th>room_category</th>\n",
       "      <th>booking_platform</th>\n",
       "      <th>ratings_given</th>\n",
       "      <th>booking_status</th>\n",
       "      <th>revenue_generated</th>\n",
       "      <th>revenue_realized</th>\n",
       "    </tr>\n",
       "  </thead>\n",
       "  <tbody>\n",
       "    <tr>\n",
       "      <th>0</th>\n",
       "      <td>May012216558RT14</td>\n",
       "      <td>16558</td>\n",
       "      <td>2022-04-28</td>\n",
       "      <td>2022-05-01</td>\n",
       "      <td>2022-05-02</td>\n",
       "      <td>2</td>\n",
       "      <td>RT1</td>\n",
       "      <td>others</td>\n",
       "      <td>NaN</td>\n",
       "      <td>Cancelled</td>\n",
       "      <td>91000000</td>\n",
       "      <td>3640</td>\n",
       "    </tr>\n",
       "    <tr>\n",
       "      <th>1</th>\n",
       "      <td>May012216559RT43</td>\n",
       "      <td>16559</td>\n",
       "      <td>2022-05-01</td>\n",
       "      <td>2022-05-01</td>\n",
       "      <td>2022-05-02</td>\n",
       "      <td>6</td>\n",
       "      <td>RT4</td>\n",
       "      <td>tripster</td>\n",
       "      <td>3.0</td>\n",
       "      <td>Checked Out</td>\n",
       "      <td>45220</td>\n",
       "      <td>45220</td>\n",
       "    </tr>\n",
       "    <tr>\n",
       "      <th>2</th>\n",
       "      <td>May012217560RT46</td>\n",
       "      <td>17560</td>\n",
       "      <td>2022-04-28</td>\n",
       "      <td>2022-05-01</td>\n",
       "      <td>2022-05-02</td>\n",
       "      <td>6</td>\n",
       "      <td>RT4</td>\n",
       "      <td>makeyourtrip</td>\n",
       "      <td>3.0</td>\n",
       "      <td>Checked Out</td>\n",
       "      <td>45220</td>\n",
       "      <td>45220</td>\n",
       "    </tr>\n",
       "    <tr>\n",
       "      <th>3</th>\n",
       "      <td>May012217560RT410</td>\n",
       "      <td>17560</td>\n",
       "      <td>2022-05-01</td>\n",
       "      <td>2022-05-01</td>\n",
       "      <td>2022-05-04</td>\n",
       "      <td>6</td>\n",
       "      <td>RT4</td>\n",
       "      <td>others</td>\n",
       "      <td>2.0</td>\n",
       "      <td>Checked Out</td>\n",
       "      <td>45220</td>\n",
       "      <td>45220</td>\n",
       "    </tr>\n",
       "    <tr>\n",
       "      <th>4</th>\n",
       "      <td>May022216559RT47</td>\n",
       "      <td>16559</td>\n",
       "      <td>2022-04-28</td>\n",
       "      <td>2022-05-02</td>\n",
       "      <td>2022-05-04</td>\n",
       "      <td>6</td>\n",
       "      <td>RT4</td>\n",
       "      <td>logtrip</td>\n",
       "      <td>NaN</td>\n",
       "      <td>Checked Out</td>\n",
       "      <td>45220</td>\n",
       "      <td>45220</td>\n",
       "    </tr>\n",
       "  </tbody>\n",
       "</table>\n",
       "</div>"
      ],
      "text/plain": [
       "          booking_id  property_id booking_date check_in_date checkout_date  \\\n",
       "0   May012216558RT14        16558   2022-04-28    2022-05-01    2022-05-02   \n",
       "1   May012216559RT43        16559   2022-05-01    2022-05-01    2022-05-02   \n",
       "2   May012217560RT46        17560   2022-04-28    2022-05-01    2022-05-02   \n",
       "3  May012217560RT410        17560   2022-05-01    2022-05-01    2022-05-04   \n",
       "4   May022216559RT47        16559   2022-04-28    2022-05-02    2022-05-04   \n",
       "\n",
       "   no_guests room_category booking_platform  ratings_given booking_status  \\\n",
       "0          2           RT1           others            NaN      Cancelled   \n",
       "1          6           RT4         tripster            3.0    Checked Out   \n",
       "2          6           RT4     makeyourtrip            3.0    Checked Out   \n",
       "3          6           RT4           others            2.0    Checked Out   \n",
       "4          6           RT4          logtrip            NaN    Checked Out   \n",
       "\n",
       "   revenue_generated  revenue_realized  \n",
       "0           91000000              3640  \n",
       "1              45220             45220  \n",
       "2              45220             45220  \n",
       "3              45220             45220  \n",
       "4              45220             45220  "
      ]
     },
     "execution_count": 46,
     "metadata": {},
     "output_type": "execute_result"
    }
   ],
   "source": [
    "df_bookings.head()"
   ]
  },
  {
   "cell_type": "code",
   "execution_count": 47,
   "id": "29b6a026-3255-4881-9a72-598c409b6800",
   "metadata": {},
   "outputs": [
    {
     "name": "stdout",
     "output_type": "stream",
     "text": [
      "<class 'pandas.core.series.Series'>\n",
      "RangeIndex: 134590 entries, 0 to 134589\n",
      "Series name: no_guests\n",
      "Non-Null Count   Dtype\n",
      "--------------   -----\n",
      "134590 non-null  int64\n",
      "dtypes: int64(1)\n",
      "memory usage: 1.0 MB\n"
     ]
    }
   ],
   "source": [
    "df_bookings['no_guests'].info()"
   ]
  },
  {
   "cell_type": "code",
   "execution_count": 48,
   "id": "f5324209-9cbd-4202-84cc-74c233d8e717",
   "metadata": {},
   "outputs": [
    {
     "data": {
      "text/html": [
       "<div>\n",
       "<style scoped>\n",
       "    .dataframe tbody tr th:only-of-type {\n",
       "        vertical-align: middle;\n",
       "    }\n",
       "\n",
       "    .dataframe tbody tr th {\n",
       "        vertical-align: top;\n",
       "    }\n",
       "\n",
       "    .dataframe thead th {\n",
       "        text-align: right;\n",
       "    }\n",
       "</style>\n",
       "<table border=\"1\" class=\"dataframe\">\n",
       "  <thead>\n",
       "    <tr style=\"text-align: right;\">\n",
       "      <th></th>\n",
       "      <th>booking_id</th>\n",
       "      <th>property_id</th>\n",
       "      <th>booking_date</th>\n",
       "      <th>check_in_date</th>\n",
       "      <th>checkout_date</th>\n",
       "      <th>no_guests</th>\n",
       "      <th>room_category</th>\n",
       "      <th>booking_platform</th>\n",
       "      <th>ratings_given</th>\n",
       "      <th>booking_status</th>\n",
       "      <th>revenue_generated</th>\n",
       "      <th>revenue_realized</th>\n",
       "    </tr>\n",
       "  </thead>\n",
       "  <tbody>\n",
       "    <tr>\n",
       "      <th>0</th>\n",
       "      <td>May012216558RT14</td>\n",
       "      <td>16558</td>\n",
       "      <td>2022-04-28</td>\n",
       "      <td>2022-05-01</td>\n",
       "      <td>2022-05-02</td>\n",
       "      <td>2</td>\n",
       "      <td>RT1</td>\n",
       "      <td>others</td>\n",
       "      <td>NaN</td>\n",
       "      <td>Cancelled</td>\n",
       "      <td>91000000</td>\n",
       "      <td>3640</td>\n",
       "    </tr>\n",
       "    <tr>\n",
       "      <th>1</th>\n",
       "      <td>May012216559RT43</td>\n",
       "      <td>16559</td>\n",
       "      <td>2022-05-01</td>\n",
       "      <td>2022-05-01</td>\n",
       "      <td>2022-05-02</td>\n",
       "      <td>6</td>\n",
       "      <td>RT4</td>\n",
       "      <td>tripster</td>\n",
       "      <td>3.0</td>\n",
       "      <td>Checked Out</td>\n",
       "      <td>45220</td>\n",
       "      <td>45220</td>\n",
       "    </tr>\n",
       "    <tr>\n",
       "      <th>2</th>\n",
       "      <td>May012217560RT46</td>\n",
       "      <td>17560</td>\n",
       "      <td>2022-04-28</td>\n",
       "      <td>2022-05-01</td>\n",
       "      <td>2022-05-02</td>\n",
       "      <td>6</td>\n",
       "      <td>RT4</td>\n",
       "      <td>makeyourtrip</td>\n",
       "      <td>3.0</td>\n",
       "      <td>Checked Out</td>\n",
       "      <td>45220</td>\n",
       "      <td>45220</td>\n",
       "    </tr>\n",
       "    <tr>\n",
       "      <th>3</th>\n",
       "      <td>May012217560RT410</td>\n",
       "      <td>17560</td>\n",
       "      <td>2022-05-01</td>\n",
       "      <td>2022-05-01</td>\n",
       "      <td>2022-05-04</td>\n",
       "      <td>6</td>\n",
       "      <td>RT4</td>\n",
       "      <td>others</td>\n",
       "      <td>2.0</td>\n",
       "      <td>Checked Out</td>\n",
       "      <td>45220</td>\n",
       "      <td>45220</td>\n",
       "    </tr>\n",
       "    <tr>\n",
       "      <th>4</th>\n",
       "      <td>May022216559RT47</td>\n",
       "      <td>16559</td>\n",
       "      <td>2022-04-28</td>\n",
       "      <td>2022-05-02</td>\n",
       "      <td>2022-05-04</td>\n",
       "      <td>6</td>\n",
       "      <td>RT4</td>\n",
       "      <td>logtrip</td>\n",
       "      <td>NaN</td>\n",
       "      <td>Checked Out</td>\n",
       "      <td>45220</td>\n",
       "      <td>45220</td>\n",
       "    </tr>\n",
       "    <tr>\n",
       "      <th>...</th>\n",
       "      <td>...</td>\n",
       "      <td>...</td>\n",
       "      <td>...</td>\n",
       "      <td>...</td>\n",
       "      <td>...</td>\n",
       "      <td>...</td>\n",
       "      <td>...</td>\n",
       "      <td>...</td>\n",
       "      <td>...</td>\n",
       "      <td>...</td>\n",
       "      <td>...</td>\n",
       "      <td>...</td>\n",
       "    </tr>\n",
       "    <tr>\n",
       "      <th>134585</th>\n",
       "      <td>Jul312218563RT110</td>\n",
       "      <td>18563</td>\n",
       "      <td>2022-07-10</td>\n",
       "      <td>2022-07-31</td>\n",
       "      <td>2022-08-01</td>\n",
       "      <td>2</td>\n",
       "      <td>RT1</td>\n",
       "      <td>direct offline</td>\n",
       "      <td>NaN</td>\n",
       "      <td>Checked Out</td>\n",
       "      <td>6500</td>\n",
       "      <td>6500</td>\n",
       "    </tr>\n",
       "    <tr>\n",
       "      <th>134586</th>\n",
       "      <td>Jul312218563RT111</td>\n",
       "      <td>18563</td>\n",
       "      <td>2022-07-31</td>\n",
       "      <td>2022-07-31</td>\n",
       "      <td>2022-08-01</td>\n",
       "      <td>1</td>\n",
       "      <td>RT1</td>\n",
       "      <td>others</td>\n",
       "      <td>NaN</td>\n",
       "      <td>Cancelled</td>\n",
       "      <td>6500</td>\n",
       "      <td>2600</td>\n",
       "    </tr>\n",
       "    <tr>\n",
       "      <th>134587</th>\n",
       "      <td>Jul312218563RT112</td>\n",
       "      <td>18563</td>\n",
       "      <td>2022-07-31</td>\n",
       "      <td>2022-07-31</td>\n",
       "      <td>2022-08-01</td>\n",
       "      <td>1</td>\n",
       "      <td>RT1</td>\n",
       "      <td>makeyourtrip</td>\n",
       "      <td>NaN</td>\n",
       "      <td>Checked Out</td>\n",
       "      <td>6500</td>\n",
       "      <td>6500</td>\n",
       "    </tr>\n",
       "    <tr>\n",
       "      <th>134588</th>\n",
       "      <td>Jul312218563RT113</td>\n",
       "      <td>18563</td>\n",
       "      <td>2022-07-31</td>\n",
       "      <td>2022-07-31</td>\n",
       "      <td>2022-08-02</td>\n",
       "      <td>1</td>\n",
       "      <td>RT1</td>\n",
       "      <td>others</td>\n",
       "      <td>3.0</td>\n",
       "      <td>Checked Out</td>\n",
       "      <td>6500</td>\n",
       "      <td>6500</td>\n",
       "    </tr>\n",
       "    <tr>\n",
       "      <th>134589</th>\n",
       "      <td>Jul312218563RT114</td>\n",
       "      <td>18563</td>\n",
       "      <td>2022-07-27</td>\n",
       "      <td>2022-07-31</td>\n",
       "      <td>2022-08-03</td>\n",
       "      <td>1</td>\n",
       "      <td>RT1</td>\n",
       "      <td>logtrip</td>\n",
       "      <td>3.0</td>\n",
       "      <td>Checked Out</td>\n",
       "      <td>6500</td>\n",
       "      <td>6500</td>\n",
       "    </tr>\n",
       "  </tbody>\n",
       "</table>\n",
       "<p>134590 rows × 12 columns</p>\n",
       "</div>"
      ],
      "text/plain": [
       "               booking_id  property_id booking_date check_in_date  \\\n",
       "0        May012216558RT14        16558   2022-04-28    2022-05-01   \n",
       "1        May012216559RT43        16559   2022-05-01    2022-05-01   \n",
       "2        May012217560RT46        17560   2022-04-28    2022-05-01   \n",
       "3       May012217560RT410        17560   2022-05-01    2022-05-01   \n",
       "4        May022216559RT47        16559   2022-04-28    2022-05-02   \n",
       "...                   ...          ...          ...           ...   \n",
       "134585  Jul312218563RT110        18563   2022-07-10    2022-07-31   \n",
       "134586  Jul312218563RT111        18563   2022-07-31    2022-07-31   \n",
       "134587  Jul312218563RT112        18563   2022-07-31    2022-07-31   \n",
       "134588  Jul312218563RT113        18563   2022-07-31    2022-07-31   \n",
       "134589  Jul312218563RT114        18563   2022-07-27    2022-07-31   \n",
       "\n",
       "       checkout_date  no_guests room_category booking_platform  ratings_given  \\\n",
       "0         2022-05-02          2           RT1           others            NaN   \n",
       "1         2022-05-02          6           RT4         tripster            3.0   \n",
       "2         2022-05-02          6           RT4     makeyourtrip            3.0   \n",
       "3         2022-05-04          6           RT4           others            2.0   \n",
       "4         2022-05-04          6           RT4          logtrip            NaN   \n",
       "...              ...        ...           ...              ...            ...   \n",
       "134585    2022-08-01          2           RT1   direct offline            NaN   \n",
       "134586    2022-08-01          1           RT1           others            NaN   \n",
       "134587    2022-08-01          1           RT1     makeyourtrip            NaN   \n",
       "134588    2022-08-02          1           RT1           others            3.0   \n",
       "134589    2022-08-03          1           RT1          logtrip            3.0   \n",
       "\n",
       "       booking_status  revenue_generated  revenue_realized  \n",
       "0           Cancelled           91000000              3640  \n",
       "1         Checked Out              45220             45220  \n",
       "2         Checked Out              45220             45220  \n",
       "3         Checked Out              45220             45220  \n",
       "4         Checked Out              45220             45220  \n",
       "...               ...                ...               ...  \n",
       "134585    Checked Out               6500              6500  \n",
       "134586      Cancelled               6500              2600  \n",
       "134587    Checked Out               6500              6500  \n",
       "134588    Checked Out               6500              6500  \n",
       "134589    Checked Out               6500              6500  \n",
       "\n",
       "[134590 rows x 12 columns]"
      ]
     },
     "execution_count": 48,
     "metadata": {},
     "output_type": "execute_result"
    }
   ],
   "source": [
    "df_bookings = df_bookings[df_bookings['no_guests'] > 0] # Remove all the values which are less than 0 because no_guests cannot be less than 0\n",
    "df_bookings "
   ]
  },
  {
   "cell_type": "code",
   "execution_count": 49,
   "id": "89181cf0-e6a4-4ff4-b33e-c4c4519716ec",
   "metadata": {},
   "outputs": [
    {
     "data": {
      "text/plain": [
       "np.int64(0)"
      ]
     },
     "execution_count": 49,
     "metadata": {},
     "output_type": "execute_result"
    }
   ],
   "source": [
    "df_bookings['no_guests'].isnull().sum() # No null values present."
   ]
  },
  {
   "cell_type": "code",
   "execution_count": 50,
   "id": "8804cf26-1cf9-4b36-8e0a-b17f45d573e9",
   "metadata": {},
   "outputs": [
    {
     "data": {
      "text/plain": [
       "np.int64(77907)"
      ]
     },
     "execution_count": 50,
     "metadata": {},
     "output_type": "execute_result"
    }
   ],
   "source": [
    "df_bookings['ratings_given'].isnull().sum()"
   ]
  },
  {
   "cell_type": "code",
   "execution_count": 51,
   "id": "cd40f458-2154-471d-8758-e3519f7ecbfe",
   "metadata": {},
   "outputs": [
    {
     "data": {
      "text/plain": [
       "ratings_given\n",
       "3.6    68714\n",
       "5.0    19480\n",
       "3.0    17561\n",
       "4.0     9653\n",
       "3.7     9193\n",
       "2.0     6452\n",
       "1.0     3537\n",
       "Name: count, dtype: int64"
      ]
     },
     "execution_count": 51,
     "metadata": {},
     "output_type": "execute_result"
    }
   ],
   "source": [
    "df_bookings['ratings_given'] = round(df_bookings.groupby('room_category')['ratings_given'].transform(lambda x:x.fillna(x.mean())),1)\n",
    "df_bookings['ratings_given'].value_counts()"
   ]
  },
  {
   "cell_type": "code",
   "execution_count": 52,
   "id": "c98b9fb3-e138-4334-a332-7609733504ef",
   "metadata": {},
   "outputs": [
    {
     "name": "stdout",
     "output_type": "stream",
     "text": [
      "<class 'pandas.core.frame.DataFrame'>\n",
      "RangeIndex: 134590 entries, 0 to 134589\n",
      "Data columns (total 12 columns):\n",
      " #   Column             Non-Null Count   Dtype  \n",
      "---  ------             --------------   -----  \n",
      " 0   booking_id         134590 non-null  object \n",
      " 1   property_id        134590 non-null  int64  \n",
      " 2   booking_date       134590 non-null  object \n",
      " 3   check_in_date      134590 non-null  object \n",
      " 4   checkout_date      134590 non-null  object \n",
      " 5   no_guests          134590 non-null  int64  \n",
      " 6   room_category      134590 non-null  object \n",
      " 7   booking_platform   134590 non-null  object \n",
      " 8   ratings_given      134590 non-null  float64\n",
      " 9   booking_status     134590 non-null  object \n",
      " 10  revenue_generated  134590 non-null  int64  \n",
      " 11  revenue_realized   134590 non-null  int64  \n",
      "dtypes: float64(1), int64(4), object(7)\n",
      "memory usage: 12.3+ MB\n"
     ]
    }
   ],
   "source": [
    "df_bookings.info()"
   ]
  },
  {
   "cell_type": "code",
   "execution_count": 53,
   "id": "b52697e6-dfa5-47d1-bdc8-039bb35dd477",
   "metadata": {},
   "outputs": [
    {
     "name": "stdout",
     "output_type": "stream",
     "text": [
      "<class 'pandas.core.frame.DataFrame'>\n",
      "RangeIndex: 134590 entries, 0 to 134589\n",
      "Data columns (total 12 columns):\n",
      " #   Column             Non-Null Count   Dtype         \n",
      "---  ------             --------------   -----         \n",
      " 0   booking_id         134590 non-null  object        \n",
      " 1   property_id        134590 non-null  int64         \n",
      " 2   booking_date       134590 non-null  datetime64[ns]\n",
      " 3   check_in_date      134590 non-null  datetime64[ns]\n",
      " 4   checkout_date      134590 non-null  datetime64[ns]\n",
      " 5   no_guests          134590 non-null  int64         \n",
      " 6   room_category      134590 non-null  object        \n",
      " 7   booking_platform   134590 non-null  object        \n",
      " 8   ratings_given      134590 non-null  float64       \n",
      " 9   booking_status     134590 non-null  object        \n",
      " 10  revenue_generated  134590 non-null  int64         \n",
      " 11  revenue_realized   134590 non-null  int64         \n",
      "dtypes: datetime64[ns](3), float64(1), int64(4), object(4)\n",
      "memory usage: 12.3+ MB\n"
     ]
    }
   ],
   "source": [
    "df_bookings['booking_date'] = pd.to_datetime(df_bookings['booking_date'], format='mixed')\n",
    "df_bookings['check_in_date'] = pd.to_datetime(df_bookings['check_in_date'], format='mixed')\n",
    "df_bookings['checkout_date'] = pd.to_datetime(df_bookings['checkout_date'], format='mixed')\n",
    "df_bookings.info()"
   ]
  },
  {
   "cell_type": "code",
   "execution_count": 54,
   "id": "8d74c265-eb73-4499-bfd5-0dbf6e09027c",
   "metadata": {},
   "outputs": [
    {
     "data": {
      "text/html": [
       "<div>\n",
       "<style scoped>\n",
       "    .dataframe tbody tr th:only-of-type {\n",
       "        vertical-align: middle;\n",
       "    }\n",
       "\n",
       "    .dataframe tbody tr th {\n",
       "        vertical-align: top;\n",
       "    }\n",
       "\n",
       "    .dataframe thead th {\n",
       "        text-align: right;\n",
       "    }\n",
       "</style>\n",
       "<table border=\"1\" class=\"dataframe\">\n",
       "  <thead>\n",
       "    <tr style=\"text-align: right;\">\n",
       "      <th></th>\n",
       "      <th>no_guests</th>\n",
       "      <th>ratings_given</th>\n",
       "      <th>revenue_generated</th>\n",
       "      <th>revenue_realized</th>\n",
       "    </tr>\n",
       "  </thead>\n",
       "  <tbody>\n",
       "    <tr>\n",
       "      <th>count</th>\n",
       "      <td>134590.000000</td>\n",
       "      <td>134590.000000</td>\n",
       "      <td>1.345900e+05</td>\n",
       "      <td>1.345900e+05</td>\n",
       "    </tr>\n",
       "    <tr>\n",
       "      <th>mean</th>\n",
       "      <td>2.036808</td>\n",
       "      <td>3.614834</td>\n",
       "      <td>1.560754e+04</td>\n",
       "      <td>1.300164e+04</td>\n",
       "    </tr>\n",
       "    <tr>\n",
       "      <th>std</th>\n",
       "      <td>1.031766</td>\n",
       "      <td>0.801855</td>\n",
       "      <td>2.481231e+05</td>\n",
       "      <td>8.532414e+04</td>\n",
       "    </tr>\n",
       "    <tr>\n",
       "      <th>min</th>\n",
       "      <td>1.000000</td>\n",
       "      <td>1.000000</td>\n",
       "      <td>6.500000e+03</td>\n",
       "      <td>2.600000e+03</td>\n",
       "    </tr>\n",
       "    <tr>\n",
       "      <th>25%</th>\n",
       "      <td>1.000000</td>\n",
       "      <td>3.600000</td>\n",
       "      <td>9.900000e+03</td>\n",
       "      <td>7.600000e+03</td>\n",
       "    </tr>\n",
       "    <tr>\n",
       "      <th>50%</th>\n",
       "      <td>2.000000</td>\n",
       "      <td>3.600000</td>\n",
       "      <td>1.350000e+04</td>\n",
       "      <td>1.170000e+04</td>\n",
       "    </tr>\n",
       "    <tr>\n",
       "      <th>75%</th>\n",
       "      <td>2.000000</td>\n",
       "      <td>3.700000</td>\n",
       "      <td>1.800000e+04</td>\n",
       "      <td>1.530000e+04</td>\n",
       "    </tr>\n",
       "    <tr>\n",
       "      <th>max</th>\n",
       "      <td>6.000000</td>\n",
       "      <td>5.000000</td>\n",
       "      <td>9.100000e+07</td>\n",
       "      <td>2.856000e+07</td>\n",
       "    </tr>\n",
       "  </tbody>\n",
       "</table>\n",
       "</div>"
      ],
      "text/plain": [
       "           no_guests  ratings_given  revenue_generated  revenue_realized\n",
       "count  134590.000000  134590.000000       1.345900e+05      1.345900e+05\n",
       "mean        2.036808       3.614834       1.560754e+04      1.300164e+04\n",
       "std         1.031766       0.801855       2.481231e+05      8.532414e+04\n",
       "min         1.000000       1.000000       6.500000e+03      2.600000e+03\n",
       "25%         1.000000       3.600000       9.900000e+03      7.600000e+03\n",
       "50%         2.000000       3.600000       1.350000e+04      1.170000e+04\n",
       "75%         2.000000       3.700000       1.800000e+04      1.530000e+04\n",
       "max         6.000000       5.000000       9.100000e+07      2.856000e+07"
      ]
     },
     "execution_count": 54,
     "metadata": {},
     "output_type": "execute_result"
    }
   ],
   "source": [
    "df_bookings[['no_guests','ratings_given','revenue_generated','revenue_realized']].describe()"
   ]
  },
  {
   "cell_type": "markdown",
   "id": "70a5210f-fbe2-4221-9ad6-a1e7c93a853f",
   "metadata": {},
   "source": [
    "# Checking Outliers"
   ]
  },
  {
   "cell_type": "code",
   "execution_count": 55,
   "id": "044584e6-9ca8-4c19-946b-cf27404cb5e2",
   "metadata": {},
   "outputs": [
    {
     "data": {
      "image/png": "[encoded data removed]",
      "text/plain": [
       "<Figure size 2200x900 with 4 Axes>"
      ]
     },
     "metadata": {},
     "output_type": "display_data"
    }
   ],
   "source": [
    "# Before removing ouliers lets check the distribution of the features.\n",
    "\n",
    "columns = ['no_guests','ratings_given','revenue_generated','revenue_realized']\n",
    " \n",
    "fig,axes = plt.subplots(2,2,figsize=(22,9))\n",
    "axes = axes.flatten()\n",
    "\n",
    "for i,col in enumerate(columns):\n",
    "    ax = sns.kdeplot(x=col,data=df_bookings,color='blue',fill=True,ax=axes[i])\n",
    "    axes[i].set_xlabel('Distribution')\n",
    "    axes[i].set_ylabel('Density')\n",
    "    axes[i].set_title(f'Distribution of {col}')\n",
    "\n",
    "plt.show()"
   ]
  },
  {
   "cell_type": "code",
   "execution_count": 56,
   "id": "717662b3-002a-486f-8fed-d26c0001d23c",
   "metadata": {},
   "outputs": [
    {
     "data": {
      "text/html": [
       "<div>\n",
       "<style scoped>\n",
       "    .dataframe tbody tr th:only-of-type {\n",
       "        vertical-align: middle;\n",
       "    }\n",
       "\n",
       "    .dataframe tbody tr th {\n",
       "        vertical-align: top;\n",
       "    }\n",
       "\n",
       "    .dataframe thead th {\n",
       "        text-align: right;\n",
       "    }\n",
       "</style>\n",
       "<table border=\"1\" class=\"dataframe\">\n",
       "  <thead>\n",
       "    <tr style=\"text-align: right;\">\n",
       "      <th></th>\n",
       "      <th>ratings_given</th>\n",
       "      <th>z_score</th>\n",
       "    </tr>\n",
       "  </thead>\n",
       "  <tbody>\n",
       "  </tbody>\n",
       "</table>\n",
       "</div>"
      ],
      "text/plain": [
       "Empty DataFrame\n",
       "Columns: [ratings_given, z_score]\n",
       "Index: []"
      ]
     },
     "execution_count": 56,
     "metadata": {},
     "output_type": "execute_result"
    }
   ],
   "source": [
    " # Removing Outliers for Rating Given using z-score.\n",
    "\n",
    "df_bookings['z_score'] = (df_bookings['ratings_given'] - df_bookings['ratings_given'].mean()) / df_bookings['ratings_given'].std()\n",
    "df_bookings[df_bookings['z_score'] > 3][['ratings_given','z_score']]\n",
    "# No-Outliers Present"
   ]
  },
  {
   "cell_type": "code",
   "execution_count": 57,
   "id": "c18540df-1bd5-4d9d-9baf-f71aee87fa52",
   "metadata": {},
   "outputs": [],
   "source": [
    "df_bookings.drop('z_score',axis=1,inplace=True)"
   ]
  },
  {
   "cell_type": "code",
   "execution_count": 58,
   "id": "c0189fd9-12f3-4030-bf62-f31f598df885",
   "metadata": {},
   "outputs": [
    {
     "data": {
      "text/plain": [
       "no_guests\n",
       "2    60223\n",
       "1    44313\n",
       "3    15122\n",
       "4    12096\n",
       "5     1391\n",
       "Name: count, dtype: int64"
      ]
     },
     "execution_count": 58,
     "metadata": {},
     "output_type": "execute_result"
    }
   ],
   "source": [
    " # Removing Outliers for no_guests using 3 sigma rule\n",
    "\n",
    "mean = df_bookings['no_guests'].mean()\n",
    "three_step_std_deviation = round(mean + (df_bookings['no_guests'].std() * 3))\n",
    "three_step_std_deviation\n",
    "\n",
    "df_bookings = df_bookings.loc[df_bookings['no_guests']<=three_step_std_deviation]\n",
    "df_bookings['no_guests'].value_counts()  # Outliers have been removed."
   ]
  },
  {
   "cell_type": "code",
   "execution_count": 59,
   "id": "816708c9-a30a-4a2e-8193-ee7d51873424",
   "metadata": {},
   "outputs": [],
   "source": [
    "# Removing Outliers for revenue realized using 3 sigma rule\n",
    "mean = df_bookings['revenue_realized'].mean()\n",
    "three_step_std_deviation_upper_bound = round(mean + (df_bookings['revenue_realized'].std() * 3))\n",
    "three_step_std_deviation_lower_bound = round(mean - (df_bookings['revenue_realized'].std() * 3))\n",
    "three_step_std_deviation_lower_bound\n",
    "\n",
    "df_bookings = df_bookings.loc[(df_bookings['revenue_realized'] >= three_step_std_deviation_lower_bound) | (df_bookings['revenue_realized'] <= three_step_std_deviation_upper_bound)]"
   ]
  },
  {
   "cell_type": "code",
   "execution_count": 60,
   "id": "d7bf8023-414f-452c-b9b0-fea8ad2ac90a",
   "metadata": {},
   "outputs": [],
   "source": [
    "# Removing Outliers for revenue generated\n",
    "\n",
    "mean = df_bookings['revenue_generated'].mean()\n",
    "three_step_std_deviation_upper_bound = round(mean + (df_bookings['revenue_generated'].std() * 3))\n",
    "three_step_std_deviation_lower_bound = round(mean - (df_bookings['revenue_generated'].std() * 3))\n",
    "\n",
    "df_bookings = df_bookings.loc[(df_bookings['revenue_generated'] >= three_step_std_deviation_lower_bound) & (df_bookings['revenue_generated'] <= three_step_std_deviation_upper_bound)]"
   ]
  },
  {
   "cell_type": "code",
   "execution_count": 61,
   "id": "3890a9ef-fe2f-452e-958c-3c8fa1d64cd7",
   "metadata": {},
   "outputs": [
    {
     "data": {
      "text/plain": [
       "np.int64(41990)"
      ]
     },
     "execution_count": 61,
     "metadata": {},
     "output_type": "execute_result"
    }
   ],
   "source": [
    "df_bookings['revenue_generated'].max()"
   ]
  },
  {
   "cell_type": "markdown",
   "id": "13b83066-d8d5-4ead-8933-d71fd59a51b1",
   "metadata": {},
   "source": [
    "# Exploratary Data Analysis"
   ]
  },
  {
   "cell_type": "markdown",
   "id": "104afce2-1e8d-4ba6-bdde-164224269aa2",
   "metadata": {},
   "source": [
    "# Which hotel category (Luxury vs. Business) has the highest occupancy rate over the given period?"
   ]
  },
  {
   "cell_type": "code",
   "execution_count": 62,
   "id": "4287dd91-1ab8-40b7-909e-9409700228a5",
   "metadata": {},
   "outputs": [
    {
     "data": {
      "image/png": "[encoded data removed]",
      "text/plain": [
       "<Figure size 800x600 with 1 Axes>"
      ]
     },
     "metadata": {},
     "output_type": "display_data"
    }
   ],
   "source": [
    "Occupancy_rate = pd.merge(df_aggregated_bookings,df_hotels,left_on='property_id',right_on='property_id',how='inner')\n",
    "Occupancy_rate = Occupancy_rate.groupby('category').agg(\n",
    "    successful_bookings_sum = ('successful_bookings','sum'),\n",
    "    capacity_sum = ('capacity','sum')\n",
    ")\n",
    "\n",
    "Occupancy_rate['Occupancy_percentage'] = round((Occupancy_rate['successful_bookings_sum'] / Occupancy_rate['capacity_sum']) *100,2)\n",
    "Occupancy_rate = Occupancy_rate['Occupancy_percentage'].reset_index()\n",
    "\n",
    "# Creating Bar-Plot\n",
    "plt.figure(figsize=(8,6))\n",
    "\n",
    "ax = sns.barplot(x='category',y='Occupancy_percentage',data=Occupancy_rate,palette='rocket',hue='category',width=0.3)\n",
    "\n",
    "# Adding Data-labels\n",
    "for bars in ax.containers:\n",
    "    ax.bar_label(bars,fmt='%.1f%%',label_type='edge',padding=3)\n",
    "\n",
    "plt.xlabel('Category')  \n",
    "plt.ylabel('Occupancy Percentage')  \n",
    "plt.title('Occupancy Rate by category')\n",
    "\n",
    "plt.grid(visible=False)\n",
    "plt.show()"
   ]
  },
  {
   "cell_type": "markdown",
   "id": "a959fff6-67c8-4e4d-ae2b-d8d4de8caa37",
   "metadata": {},
   "source": [
    "Both the hotel category Business and Luxury has similar occupancy rate with Business category having 58.4% OR and Luxury category having 57.7%."
   ]
  },
  {
   "cell_type": "markdown",
   "id": "3ea2da46-4dec-47c5-956b-e4f560757cdb",
   "metadata": {},
   "source": [
    "# How does occupancy rate vary across different cities?"
   ]
  },
  {
   "cell_type": "code",
   "execution_count": 63,
   "id": "3ab8cb2d-9f92-46fe-9310-99fdd3f80093",
   "metadata": {},
   "outputs": [
    {
     "data": {
      "image/png": "[encoded data removed]",
      "text/plain": [
       "<Figure size 800x600 with 1 Axes>"
      ]
     },
     "metadata": {},
     "output_type": "display_data"
    }
   ],
   "source": [
    "Occupancy_rate_cities = pd.merge(df_aggregated_bookings,df_hotels,left_on='property_id',right_on='property_id',how='inner')\n",
    "Occupancy_rate_cities = Occupancy_rate_cities.groupby('city').agg(\n",
    "    succesful_bookings_sum = ('successful_bookings','sum'),\n",
    "    capacity_sum = ('capacity','sum')\n",
    ")\n",
    "Occupancy_rate_cities['occupancy_percentage'] = round((Occupancy_rate_cities['succesful_bookings_sum'] / Occupancy_rate_cities['capacity_sum'])*100,2)\n",
    "Occupancy_rate_cities = Occupancy_rate_cities['occupancy_percentage'].reset_index()\n",
    "Occupancy_rate_cities\n",
    "\n",
    "# Creating Bar-Plot\n",
    "plt.figure(figsize=(8,6))\n",
    "\n",
    "ax = sns.barplot(x='city',y='occupancy_percentage',data=Occupancy_rate_cities,palette='rocket',hue='city',width=0.3)\n",
    "\n",
    "# Adding Data-labels\n",
    "for bars in ax.containers:\n",
    "    ax.bar_label(bars,fmt='%.1f%%',label_type='edge',padding=3)\n",
    "\n",
    "plt.xlabel('City')  \n",
    "plt.ylabel('Occupancy Percentage')  \n",
    "plt.title('Occupancy Rate by City')\n",
    "\n",
    "plt.grid(visible=False)\n",
    "plt.show()"
   ]
  },
  {
   "cell_type": "markdown",
   "id": "0d105cda-82f6-4a03-a3a1-11836a30fe8a",
   "metadata": {},
   "source": [
    "Delhi has the highest Occupancy Rate of 60.7 % followed by Hyderabad , Mumbai and Bangalore."
   ]
  },
  {
   "cell_type": "markdown",
   "id": "2e976bde-5492-4c5f-a9d6-445e75889809",
   "metadata": {},
   "source": [
    "# What is the average booking lead time (difference between booking date and check-in date) for different hotel categories?"
   ]
  },
  {
   "cell_type": "code",
   "execution_count": 64,
   "id": "c07d4bea-8972-4379-9229-a938eba858d0",
   "metadata": {},
   "outputs": [
    {
     "data": {
      "text/html": [
       "<div>\n",
       "<style scoped>\n",
       "    .dataframe tbody tr th:only-of-type {\n",
       "        vertical-align: middle;\n",
       "    }\n",
       "\n",
       "    .dataframe tbody tr th {\n",
       "        vertical-align: top;\n",
       "    }\n",
       "\n",
       "    .dataframe thead th {\n",
       "        text-align: right;\n",
       "    }\n",
       "</style>\n",
       "<table border=\"1\" class=\"dataframe\">\n",
       "  <thead>\n",
       "    <tr style=\"text-align: right;\">\n",
       "      <th></th>\n",
       "      <th>category</th>\n",
       "      <th>lead_time</th>\n",
       "    </tr>\n",
       "  </thead>\n",
       "  <tbody>\n",
       "    <tr>\n",
       "      <th>0</th>\n",
       "      <td>Business</td>\n",
       "      <td>2</td>\n",
       "    </tr>\n",
       "    <tr>\n",
       "      <th>1</th>\n",
       "      <td>Luxury</td>\n",
       "      <td>4</td>\n",
       "    </tr>\n",
       "  </tbody>\n",
       "</table>\n",
       "</div>"
      ],
      "text/plain": [
       "   category  lead_time\n",
       "0  Business          2\n",
       "1    Luxury          4"
      ]
     },
     "execution_count": 64,
     "metadata": {},
     "output_type": "execute_result"
    }
   ],
   "source": [
    "bookings_lead_time = pd.merge(df_bookings,df_hotels,right_on='property_id',left_on='property_id',how='inner')\n",
    "bookings_lead_time['lead_time'] =  bookings_lead_time['check_in_date'] - bookings_lead_time['booking_date']\n",
    "\n",
    "avg_booking_lead_time = bookings_lead_time.groupby('category')['lead_time'].mean().reset_index()\n",
    "avg_booking_lead_time['lead_time'] = avg_booking_lead_time['lead_time'].dt.days\n",
    "avg_booking_lead_time"
   ]
  },
  {
   "cell_type": "markdown",
   "id": "abd130b6-289a-477d-9d86-0f1a95570fa5",
   "metadata": {},
   "source": [
    "The average lead time of Business Category is 2 days and Luxury Category is 4 days."
   ]
  },
  {
   "cell_type": "markdown",
   "id": "fa32cdab-571e-4461-a8d0-d720f1190803",
   "metadata": {},
   "source": [
    "# Which room category (RT1, RT2, RT3, RT4) is the most booked across all hotels?"
   ]
  },
  {
   "cell_type": "code",
   "execution_count": 65,
   "id": "7b82f80d-29d0-42ab-94b4-124defa7dccc",
   "metadata": {},
   "outputs": [
    {
     "data": {
      "image/png": "[encoded data removed]",
      "text/plain": [
       "<Figure size 800x600 with 1 Axes>"
      ]
     },
     "metadata": {},
     "output_type": "display_data"
    }
   ],
   "source": [
    "most_booked_room_category = df_aggregated_bookings.groupby('room_category')['successful_bookings'].sum().reset_index()\n",
    "\n",
    "# Creating Bar plot.\n",
    "\n",
    "plt.figure(figsize=(8,6))\n",
    "ax = sns.barplot(x='room_category',y='successful_bookings',data=most_booked_room_category,palette='rocket',hue='room_category',width=0.3)\n",
    "for bar in ax.containers:\n",
    "    ax.bar_label(bar,padding=3)\n",
    "    \n",
    "plt.xlabel('Room Category')\n",
    "plt.ylabel('Bookings')\n",
    "plt.title('Bookings by Room-Category')\n",
    "\n",
    "plt.grid(visible=False)\n",
    "plt.show()\n"
   ]
  },
  {
   "cell_type": "markdown",
   "id": "61c1b1e9-65f5-41ec-9294-874733fd5b7f",
   "metadata": {},
   "source": [
    "RT2 room category is most booked room category among other room category and RT4 is the least booked room category."
   ]
  },
  {
   "cell_type": "markdown",
   "id": "d6f64d2e-d11a-4643-be0c-9acdbe1c5e59",
   "metadata": {},
   "source": [
    "# How does the Weekend vs Weekday booking pattern vary across hotel categories?"
   ]
  },
  {
   "cell_type": "code",
   "execution_count": 66,
   "id": "a44414c4-a0a3-4fd7-8f9e-35e9a161f634",
   "metadata": {},
   "outputs": [
    {
     "data": {
      "image/png": "[encoded data removed]",
      "text/plain": [
       "<Figure size 900x600 with 1 Axes>"
      ]
     },
     "metadata": {},
     "output_type": "display_data"
    }
   ],
   "source": [
    "WendvsWday_booking_pattern = pd.merge(df_aggregated_bookings,df_date,left_on='check_in_date',right_on='date',how='inner')\n",
    "WendvsWday_booking_pattern = pd.merge(WendvsWday_booking_pattern,df_hotels,left_on='property_id',right_on='property_id',how='inner')\n",
    "WendvsWday_booking_pattern = WendvsWday_booking_pattern[['property_id','successful_bookings','day_type','category']]\n",
    "\n",
    "bookings = WendvsWday_booking_pattern.groupby(['day_type','category'])['successful_bookings'].sum().reset_index()\n",
    "\n",
    "plt.figure(figsize=(9,6))\n",
    "\n",
    "ax = sns.barplot(data=bookings, x='category', y='successful_bookings', hue='day_type',palette='rocket',width=0.3)\n",
    "for bar in ax.containers:\n",
    "    ax.bar_label(bar,padding=3)\n",
    "\n",
    "plt.xlabel('Hotel Category')\n",
    "plt.ylabel('Bookings')\n",
    "plt.title('Weekend vs Weekday Booking Pattern Across Hotel Categories')\n",
    "plt.show()\n",
    "\n"
   ]
  },
  {
   "cell_type": "markdown",
   "id": "a99a8ac8-fbd6-45b5-8c77-e5f3d515b360",
   "metadata": {},
   "source": [
    "In both the Business and Luxury hotel category bookings in Weekday is comparatively higher than Weekend."
   ]
  },
  {
   "cell_type": "markdown",
   "id": "a6f28d8e-a0fe-4204-b39c-572eac0ecb04",
   "metadata": {},
   "source": [
    "# How often do hotels operate at full capacity?"
   ]
  },
  {
   "cell_type": "code",
   "execution_count": 67,
   "id": "ca4c3471-2ebd-4834-be7d-ef6ad4a53455",
   "metadata": {},
   "outputs": [
    {
     "name": "stderr",
     "output_type": "stream",
     "text": [
      "C:\\Users\\Asus\\AppData\\Local\\Temp\\ipykernel_12476\\2709583708.py:1: SettingWithCopyWarning: \n",
      "A value is trying to be set on a copy of a slice from a DataFrame.\n",
      "Try using .loc[row_indexer,col_indexer] = value instead\n",
      "\n",
      "See the caveats in the documentation: https://pandas.pydata.org/pandas-docs/stable/user_guide/indexing.html#returning-a-view-versus-a-copy\n",
      "  df_aggregated_bookings['diff'] = df_aggregated_bookings['capacity'] - df_aggregated_bookings['successful_bookings']\n"
     ]
    },
    {
     "data": {
      "image/png": "[encoded data removed]",
      "text/plain": [
       "<Figure size 800x600 with 1 Axes>"
      ]
     },
     "metadata": {},
     "output_type": "display_data"
    }
   ],
   "source": [
    "df_aggregated_bookings['diff'] = df_aggregated_bookings['capacity'] - df_aggregated_bookings['successful_bookings']\n",
    "df_aggregated_bookings\n",
    "\n",
    "\n",
    "hotel_full_capacity = pd.merge(df_aggregated_bookings,df_hotels,on='property_id',how='inner')\n",
    "hotel_full_capacity = hotel_full_capacity[hotel_full_capacity['diff']==0].groupby('property_name').size().reset_index(name='full_capacity')\n",
    "hotel_full_capacity\n",
    "\n",
    "plt.figure(figsize=(8,6))\n",
    "\n",
    "ax = sns.barplot(x='property_name',y='full_capacity',data=hotel_full_capacity,palette='rocket',hue='property_name',width=0.3)\n",
    "for bar in ax.containers:\n",
    "    ax.bar_label(bar,padding=3)\n",
    "\n",
    "plt.xlabel('Property Name')\n",
    "plt.ylabel('Full Occupancy')\n",
    "plt.title('Hotels with Full Occupancy')\n",
    "\n",
    "plt.show()"
   ]
  },
  {
   "cell_type": "markdown",
   "id": "144c4165-59ab-4941-8541-de2207fd4d85",
   "metadata": {},
   "source": [
    "AtliQ Blu and AtliQ Grands are the two hotels which had highest Full Occupancy of 37 and 30 times respectively.\n"
   ]
  },
  {
   "cell_type": "markdown",
   "id": "33c74f3b-ec57-449d-949a-36c482c87a0e",
   "metadata": {},
   "source": [
    "# Are premium rooms (Elite, Premium, Presidential) underutilized compared to standard rooms?"
   ]
  },
  {
   "cell_type": "code",
   "execution_count": 68,
   "id": "1c660bcd-fb20-4a87-9eec-4d0763bb0d08",
   "metadata": {},
   "outputs": [
    {
     "data": {
      "image/png": "[encoded data removed]",
      "text/plain": [
       "<Figure size 800x600 with 1 Axes>"
      ]
     },
     "metadata": {},
     "output_type": "display_data"
    }
   ],
   "source": [
    "Occupancy_rate_roomclass = pd.merge(df_aggregated_bookings,df_rooms,left_on='room_category',right_on='room_id',how='inner')\n",
    "Occupancy_rate_roomclass =  Occupancy_rate_roomclass.groupby('room_class').agg(\n",
    "    successful_bookings_sum = ('successful_bookings','sum'),\n",
    "    capacity_sum= ('capacity','sum')\n",
    ").reset_index()\n",
    "\n",
    "Occupancy_rate_roomclass['occupancy%'] = round((Occupancy_rate_roomclass['successful_bookings_sum'] / Occupancy_rate_roomclass['capacity_sum'])*100,2)\n",
    "Occupancy_rate_roomclass\n",
    "\n",
    "plt.figure(figsize=(8,6))\n",
    "ax = sns.barplot(x='room_class',y='occupancy%',data=Occupancy_rate_roomclass,palette='mako',hue='room_class',width=0.3)\n",
    "for bar in ax.containers:\n",
    "    ax.bar_label(bar,padding=3)\n",
    "    \n",
    "plt.xlabel('Room Class')\n",
    "plt.ylabel('Occupancy Percentage')\n",
    "plt.title('Occupancy by Room Class')\n",
    "\n",
    "plt.grid(visible=False)\n",
    "plt.show()\n",
    "\n"
   ]
  },
  {
   "cell_type": "markdown",
   "id": "f70b7575-9a48-4f2a-944a-a9c58582e4ea",
   "metadata": {},
   "source": [
    "All of the rooms is being utilized equally."
   ]
  },
  {
   "cell_type": "markdown",
   "id": "d159df29-44bb-4619-b7c0-125eb08d1fc5",
   "metadata": {},
   "source": [
    "# What is the total revenue generated vs. revenue realized across different hotels?"
   ]
  },
  {
   "cell_type": "code",
   "execution_count": 69,
   "id": "e3bcb6b0-aa24-4a6f-9f91-f56df6626977",
   "metadata": {},
   "outputs": [
    {
     "data": {
      "image/png": "[encoded data removed]",
      "text/plain": [
       "<Figure size 1600x900 with 2 Axes>"
      ]
     },
     "metadata": {},
     "output_type": "display_data"
    }
   ],
   "source": [
    "revenue_df = pd.merge(df_bookings, df_hotels, on='property_id', how='inner')\n",
    "revenue_df = revenue_df.groupby('property_name')[['revenue_generated', 'revenue_realized']].sum().reset_index()\n",
    "revenue_df['RRvsRG_percentage'] = round((revenue_df['revenue_realized'] / revenue_df['revenue_generated'] * 100), 2)\n",
    "\n",
    "fig, ax1 = plt.subplots(figsize=(16, 9))\n",
    "\n",
    "# Ploting revenue_generated and revenue_realized on the primary y-axis\n",
    "line_rg = ax1.plot(revenue_df['property_name'], revenue_df['revenue_generated'], marker='o', linestyle='-', label='Revenue Generated', color='b')\n",
    "line_rr = ax1.plot(revenue_df['property_name'], revenue_df['revenue_realized'], marker='o', linestyle='-', label='Revenue Realized', color='g')\n",
    "\n",
    "# Adding data labels for the primary y-axis lines\n",
    "for i, txt in enumerate(revenue_df['revenue_generated']):\n",
    "    ax1.text(revenue_df['property_name'][i], revenue_df['revenue_generated'][i], f'{txt/1_000_000:.2f}M', color='b', ha='center')\n",
    "for i, txt in enumerate(revenue_df['revenue_realized']):\n",
    "    ax1.text(revenue_df['property_name'][i], revenue_df['revenue_realized'][i], f'{txt/1_000_000:.2f}M', color='g', ha='center')\n",
    "\n",
    "# Creating the secondary y-axis for the percentage line\n",
    "ax2 = ax1.twinx()\n",
    "\n",
    "# Ploting RRvsRG_percentage on the secondary y-axis\n",
    "line_rr_vs_rg = ax2.plot(revenue_df['property_name'], revenue_df['RRvsRG_percentage'], marker='o', linestyle='-', label='RR vs RG Percentage', color='r')\n",
    "\n",
    "# Adding data labels for the percentage line\n",
    "for i, txt in enumerate(revenue_df['RRvsRG_percentage']):\n",
    "    ax2.text(revenue_df['property_name'][i], revenue_df['RRvsRG_percentage'][i], f'{txt:.2f}%', color='r', ha='center')\n",
    "\n",
    "# Adding labels and title\n",
    "plt.title('Revenue vs RR Percentage by Property', fontsize=14)\n",
    "ax1.set_xlabel('Hotel Name', fontsize=12)\n",
    "ax1.set_ylabel('Revenue (in millions)', fontsize=12)\n",
    "ax2.set_ylabel('RR vs RG Percentage (%)', fontsize=12)\n",
    "\n",
    "# Adding legends for both y-axes\n",
    "ax1.legend(loc='upper right')\n",
    "\n",
    "plt.tight_layout()\n",
    "plt.show()\n"
   ]
  },
  {
   "cell_type": "markdown",
   "id": "a3915acc-531f-4252-9cc3-89a31c422ff4",
   "metadata": {},
   "source": [
    "Almost in every hotel the revenue realized ranges between 85 - 90 % of the revenue genrated."
   ]
  },
  {
   "cell_type": "markdown",
   "id": "7b84fb0b-92b1-4c61-8ec8-7b0a5c0029b7",
   "metadata": {},
   "source": [
    "# Which hotel has the highest revenue leakage due to cancellations?"
   ]
  },
  {
   "cell_type": "code",
   "execution_count": 70,
   "id": "daf13b31-65fe-4401-8634-61d502cfba79",
   "metadata": {},
   "outputs": [
    {
     "data": {
      "image/png": "[encoded data removed]",
      "text/plain": [
       "<Figure size 1200x600 with 1 Axes>"
      ]
     },
     "metadata": {},
     "output_type": "display_data"
    }
   ],
   "source": [
    "# Filtering data based on the booking status which is Cancelled\n",
    "cancelled_bookings_df = df_bookings[df_bookings['booking_status']=='Cancelled']\n",
    "\n",
    "# Joining the data frames.  \n",
    "cancelled_bookings_revenue = pd.merge(cancelled_bookings_df,df_hotels,on='property_id',how='inner')\n",
    "cancelled_bookings_revenue['revenue_leaked'] = cancelled_bookings_revenue['revenue_generated'] - cancelled_bookings_revenue['revenue_realized']\n",
    "\n",
    "cancelled_bookings_revenue = cancelled_bookings_revenue.groupby('property_name')['revenue_leaked'].sum().reset_index()\n",
    "cancelled_bookings_revenue\n",
    "\n",
    "# Ploting the bar chart\n",
    "\n",
    "plt.figure(figsize=(12,6))\n",
    "\n",
    "ax = sns.barplot(x='property_name',y='revenue_leaked',data=cancelled_bookings_revenue,palette='mako',hue='property_name',width=0.3)\n",
    "for bar in ax.containers:\n",
    "    ax.bar_label(bar,fmt='{:.2f}M',labels=[f'{(v.get_height()*1e-6):.2f}M' for v in bar],padding=3)\n",
    "\n",
    "plt.xlabel('Hotel Name')\n",
    "plt.ylabel('Revenue Leaked')\n",
    "plt.title('Revenue Leaked by Hotels due to Cancellations')\n",
    "\n",
    "plt.show()"
   ]
  },
  {
   "cell_type": "markdown",
   "id": "b9e6133e-e229-4567-a7f6-d798a1891c30",
   "metadata": {},
   "source": [
    "1. AtliQ Exotica and AtliQ Palace have lost highest revenue due to cancellations.\n",
    "2. AtliQ Seasons have lost least revenue."
   ]
  },
  {
   "cell_type": "markdown",
   "id": "9a821833-d832-48e2-8fcb-5aa9d5496e9c",
   "metadata": {},
   "source": [
    "# What is the distribution of booking statuses (Checked Out, Cancelled, No Show) across different booking platforms?"
   ]
  },
  {
   "cell_type": "code",
   "execution_count": 71,
   "id": "84182e90-3cbe-47d3-b25d-cba9a73c8c2f",
   "metadata": {},
   "outputs": [
    {
     "data": {
      "image/png": "[encoded data removed]",
      "text/plain": [
       "<Figure size 1200x400 with 2 Axes>"
      ]
     },
     "metadata": {},
     "output_type": "display_data"
    }
   ],
   "source": [
    "# Grouping data based on Booking Platform and Booking Status and calculating the counts\n",
    "status_distribution = df_bookings.groupby(['booking_platform','booking_status']).size().reset_index(name='count')\n",
    "status_distribution\n",
    "\n",
    "status_distribution = status_distribution.pivot(index='booking_status',columns='booking_platform',values='count')\n",
    "status_distribution\n",
    "\n",
    "# Plotting the heatmap\n",
    "plt.figure(figsize=(12, 4))\n",
    "sns.heatmap(status_distribution, annot=True, cmap=\"rocket_r\", fmt='g', cbar=True, linewidths=0.5)\n",
    "\n",
    "# Adding labels and title\n",
    "plt.title('Booking Status Distribution Across Platforms')\n",
    "plt.xlabel('Booking Platform')\n",
    "plt.ylabel('Booking Status')\n",
    "plt.tight_layout()\n",
    "plt.show()"
   ]
  },
  {
   "cell_type": "markdown",
   "id": "e5b5c01e-e432-4ede-a860-b2adc1e1f722",
   "metadata": {},
   "source": [
    "Others booking plaform has most of the contribution in all booking status followed by makeyourtrip and logtrip."
   ]
  },
  {
   "cell_type": "markdown",
   "id": "5ffcb5bd-58e6-49ae-b62a-b197341dc340",
   "metadata": {},
   "source": [
    "# Is there any correlation between booking lead time and cancellation rate?"
   ]
  },
  {
   "cell_type": "code",
   "execution_count": 72,
   "id": "644b7eca-fb64-4fc7-9d82-c95960950c0c",
   "metadata": {},
   "outputs": [
    {
     "data": {
      "text/html": [
       "<div>\n",
       "<style scoped>\n",
       "    .dataframe tbody tr th:only-of-type {\n",
       "        vertical-align: middle;\n",
       "    }\n",
       "\n",
       "    .dataframe tbody tr th {\n",
       "        vertical-align: top;\n",
       "    }\n",
       "\n",
       "    .dataframe thead th {\n",
       "        text-align: right;\n",
       "    }\n",
       "</style>\n",
       "<table border=\"1\" class=\"dataframe\">\n",
       "  <thead>\n",
       "    <tr style=\"text-align: right;\">\n",
       "      <th></th>\n",
       "      <th>lead_time</th>\n",
       "      <th>cancellation_rate</th>\n",
       "    </tr>\n",
       "  </thead>\n",
       "  <tbody>\n",
       "    <tr>\n",
       "      <th>lead_time</th>\n",
       "      <td>1.000000</td>\n",
       "      <td>0.066389</td>\n",
       "    </tr>\n",
       "    <tr>\n",
       "      <th>cancellation_rate</th>\n",
       "      <td>0.066389</td>\n",
       "      <td>1.000000</td>\n",
       "    </tr>\n",
       "  </tbody>\n",
       "</table>\n",
       "</div>"
      ],
      "text/plain": [
       "                   lead_time  cancellation_rate\n",
       "lead_time           1.000000           0.066389\n",
       "cancellation_rate   0.066389           1.000000"
      ]
     },
     "execution_count": 72,
     "metadata": {},
     "output_type": "execute_result"
    }
   ],
   "source": [
    "bookings = df_bookings\n",
    "\n",
    "bookings['lead_time'] = (bookings['check_in_date'] - bookings['booking_date']).dt.days\n",
    "bookings = bookings.groupby('lead_time').agg(\n",
    "    total_bookings = ('booking_id','count'),\n",
    "    cancelled_bookings = ('booking_id',lambda x: (x[bookings['booking_status']=='Cancelled']).count())\n",
    ").reset_index()\n",
    "\n",
    "bookings['cancellation_rate'] = round((bookings['cancelled_bookings'] / bookings['total_bookings'])*100,2)\n",
    "\n",
    "# Coorelation of lead time and cancellation rate.\n",
    "\n",
    "coorelation = bookings[['lead_time','cancellation_rate']].corr()\n",
    "coorelation"
   ]
  },
  {
   "cell_type": "code",
   "execution_count": 73,
   "id": "9b38dd4a-0b01-4784-91cb-570db9704ed2",
   "metadata": {},
   "outputs": [
    {
     "data": {
      "text/plain": [
       "Text(0.5, 1.0, 'Lead time and Cancellation Rate Correlation')"
      ]
     },
     "execution_count": 73,
     "metadata": {},
     "output_type": "execute_result"
    },
    {
     "data": {
      "image/png": "[encoded data removed]",
      "text/plain": [
       "<Figure size 900x400 with 1 Axes>"
      ]
     },
     "metadata": {},
     "output_type": "display_data"
    }
   ],
   "source": [
    "plt.figure(figsize=(9,4))\n",
    "\n",
    "sns.scatterplot(x='lead_time',y='cancellation_rate',data=bookings,color='blue',alpha=0.6,s=90)\n",
    "plt.xlabel('Lead Time (In Days)')\n",
    "plt.ylabel('Cancellation Rate')\n",
    "plt.title('Lead time and Cancellation Rate Correlation')"
   ]
  },
  {
   "cell_type": "markdown",
   "id": "abff637a-20b9-4d0c-b0ec-dc85bdac2c53",
   "metadata": {},
   "source": [
    "There is no correlation between lead time and cancellation rate. Cancellation rate is genrally same in every lead time.\n"
   ]
  },
  {
   "cell_type": "markdown",
   "id": "e1f86909-c5da-4123-9898-676f2087cb4f",
   "metadata": {},
   "source": [
    "# How do ratings given by customers differ across different hotel?"
   ]
  },
  {
   "cell_type": "code",
   "execution_count": 74,
   "id": "c82782d6-cf23-4d64-b28d-e5e746fc841f",
   "metadata": {},
   "outputs": [
    {
     "data": {
      "image/png": "[encoded data removed]",
      "text/plain": [
       "<Figure size 900x500 with 1 Axes>"
      ]
     },
     "metadata": {},
     "output_type": "display_data"
    }
   ],
   "source": [
    "ratings_by_property = pd.merge(df_bookings,df_hotels,on='property_id',how='inner')\n",
    "ratings_by_property = round(ratings_by_property.groupby('property_name')['ratings_given'].mean().reset_index(name='Average_Rating'),1)\n",
    "\n",
    "plt.figure(figsize=(9,5))\n",
    "\n",
    "ax = sns.barplot(x='property_name',y='Average_Rating',data=ratings_by_property,palette='rocket',hue='property_name')\n",
    "for bars in ax.containers:\n",
    "    ax.bar_label(bars)\n",
    "\n",
    "plt.xlabel('Hotel Name')\n",
    "plt.ylabel('Average Rating')\n",
    "plt.title('Average rating by Hotels')\n",
    "\n",
    "plt.show()\n"
   ]
  },
  {
   "cell_type": "markdown",
   "id": "4337fd62-6eaa-47fd-a838-ebb02967aa31",
   "metadata": {},
   "source": [
    "1. AtliQ Blue hotel has highest average rating of 3.8.\n",
    "2. AtliQ Seasons hotel has lowest average rating of 3.1."
   ]
  },
  {
   "cell_type": "markdown",
   "id": "0e41a593-08d4-4856-91f4-e6df469d8dc9",
   "metadata": {},
   "source": [
    "# Which Booking-Platform has generated highest Revenue ? "
   ]
  },
  {
   "cell_type": "code",
   "execution_count": 75,
   "id": "ea5d3e30-458c-4781-ab0e-1bb60e5e1dc2",
   "metadata": {},
   "outputs": [
    {
     "data": {
      "text/html": [
       "<div>\n",
       "<style scoped>\n",
       "    .dataframe tbody tr th:only-of-type {\n",
       "        vertical-align: middle;\n",
       "    }\n",
       "\n",
       "    .dataframe tbody tr th {\n",
       "        vertical-align: top;\n",
       "    }\n",
       "\n",
       "    .dataframe thead th {\n",
       "        text-align: right;\n",
       "    }\n",
       "</style>\n",
       "<table border=\"1\" class=\"dataframe\">\n",
       "  <thead>\n",
       "    <tr style=\"text-align: right;\">\n",
       "      <th></th>\n",
       "      <th>booking_platform</th>\n",
       "      <th>revenue_realized</th>\n",
       "    </tr>\n",
       "  </thead>\n",
       "  <tbody>\n",
       "    <tr>\n",
       "      <th>0</th>\n",
       "      <td>direct offline</td>\n",
       "      <td>97167561</td>\n",
       "    </tr>\n",
       "    <tr>\n",
       "      <th>1</th>\n",
       "      <td>direct online</td>\n",
       "      <td>165075611</td>\n",
       "    </tr>\n",
       "    <tr>\n",
       "      <th>2</th>\n",
       "      <td>journey</td>\n",
       "      <td>100535942</td>\n",
       "    </tr>\n",
       "    <tr>\n",
       "      <th>3</th>\n",
       "      <td>logtrip</td>\n",
       "      <td>183766228</td>\n",
       "    </tr>\n",
       "    <tr>\n",
       "      <th>4</th>\n",
       "      <td>makeyourtrip</td>\n",
       "      <td>334191504</td>\n",
       "    </tr>\n",
       "    <tr>\n",
       "      <th>5</th>\n",
       "      <td>others</td>\n",
       "      <td>685640866</td>\n",
       "    </tr>\n",
       "    <tr>\n",
       "      <th>6</th>\n",
       "      <td>tripster</td>\n",
       "      <td>120322969</td>\n",
       "    </tr>\n",
       "  </tbody>\n",
       "</table>\n",
       "</div>"
      ],
      "text/plain": [
       "  booking_platform  revenue_realized\n",
       "0   direct offline          97167561\n",
       "1    direct online         165075611\n",
       "2          journey         100535942\n",
       "3          logtrip         183766228\n",
       "4     makeyourtrip         334191504\n",
       "5           others         685640866\n",
       "6         tripster         120322969"
      ]
     },
     "execution_count": 75,
     "metadata": {},
     "output_type": "execute_result"
    }
   ],
   "source": [
    "highest_revenue_bp = df_bookings.groupby('booking_platform')['revenue_realized'].sum().reset_index()\n",
    "highest_revenue_bp"
   ]
  },
  {
   "cell_type": "code",
   "execution_count": 76,
   "id": "c21f5255-1167-48d5-b1b0-f8ca34284e8e",
   "metadata": {},
   "outputs": [
    {
     "data": {
      "image/png": "[encoded data removed]",
      "text/plain": [
       "<Figure size 640x480 with 1 Axes>"
      ]
     },
     "metadata": {},
     "output_type": "display_data"
    }
   ],
   "source": [
    "#setting a color paletee\n",
    "colors = sns.color_palette('Paired', len(highest_revenue_bp))\n",
    "# plotting a pie chart\n",
    "plt.pie(highest_revenue_bp['revenue_realized'],labels=highest_revenue_bp['booking_platform'],autopct='%1.1f%%', startangle=140,colors=colors,wedgeprops={'edgecolor': 'black'})\n",
    "plt.title('Revenue by Booking-Platforms')\n",
    "plt.show()"
   ]
  },
  {
   "cell_type": "markdown",
   "id": "4f1efafb-c56e-48b3-991e-433c2004a791",
   "metadata": {},
   "source": [
    "1. Others booking platform has generated 40.6% of the revenue followed by makeyourtrip with 19.8%.\n",
    "2. Tripster has generated the least with 7.1% of revenue out of total revenue.\n",
    "    "
   ]
  },
  {
   "cell_type": "markdown",
   "id": "b38a2152-7270-4b2d-8e71-8e7b9fe05598",
   "metadata": {},
   "source": [
    "# Which booking platform has the highest customer cancellation rate ?"
   ]
  },
  {
   "cell_type": "code",
   "execution_count": 77,
   "id": "74d67e3c-ec97-4612-89b1-f54a7db871cd",
   "metadata": {},
   "outputs": [
    {
     "data": {
      "text/html": [
       "<div>\n",
       "<style scoped>\n",
       "    .dataframe tbody tr th:only-of-type {\n",
       "        vertical-align: middle;\n",
       "    }\n",
       "\n",
       "    .dataframe tbody tr th {\n",
       "        vertical-align: top;\n",
       "    }\n",
       "\n",
       "    .dataframe thead th {\n",
       "        text-align: right;\n",
       "    }\n",
       "</style>\n",
       "<table border=\"1\" class=\"dataframe\">\n",
       "  <thead>\n",
       "    <tr style=\"text-align: right;\">\n",
       "      <th></th>\n",
       "      <th>booking_platform</th>\n",
       "      <th>cancelled_count</th>\n",
       "      <th>percentage</th>\n",
       "    </tr>\n",
       "  </thead>\n",
       "  <tbody>\n",
       "    <tr>\n",
       "      <th>5</th>\n",
       "      <td>others</td>\n",
       "      <td>13542</td>\n",
       "      <td>40.99</td>\n",
       "    </tr>\n",
       "    <tr>\n",
       "      <th>4</th>\n",
       "      <td>makeyourtrip</td>\n",
       "      <td>6644</td>\n",
       "      <td>20.11</td>\n",
       "    </tr>\n",
       "    <tr>\n",
       "      <th>3</th>\n",
       "      <td>logtrip</td>\n",
       "      <td>3547</td>\n",
       "      <td>10.74</td>\n",
       "    </tr>\n",
       "    <tr>\n",
       "      <th>1</th>\n",
       "      <td>direct online</td>\n",
       "      <td>3308</td>\n",
       "      <td>10.01</td>\n",
       "    </tr>\n",
       "    <tr>\n",
       "      <th>6</th>\n",
       "      <td>tripster</td>\n",
       "      <td>2372</td>\n",
       "      <td>7.18</td>\n",
       "    </tr>\n",
       "    <tr>\n",
       "      <th>2</th>\n",
       "      <td>journey</td>\n",
       "      <td>1996</td>\n",
       "      <td>6.04</td>\n",
       "    </tr>\n",
       "    <tr>\n",
       "      <th>0</th>\n",
       "      <td>direct offline</td>\n",
       "      <td>1632</td>\n",
       "      <td>4.94</td>\n",
       "    </tr>\n",
       "  </tbody>\n",
       "</table>\n",
       "</div>"
      ],
      "text/plain": [
       "  booking_platform  cancelled_count  percentage\n",
       "5           others            13542       40.99\n",
       "4     makeyourtrip             6644       20.11\n",
       "3          logtrip             3547       10.74\n",
       "1    direct online             3308       10.01\n",
       "6         tripster             2372        7.18\n",
       "2          journey             1996        6.04\n",
       "0   direct offline             1632        4.94"
      ]
     },
     "execution_count": 77,
     "metadata": {},
     "output_type": "execute_result"
    }
   ],
   "source": [
    "cancelled_bookings_df\n",
    "\n",
    "cancellation_rate_bp = cancelled_bookings_df.groupby('booking_platform')['booking_status'].size().reset_index(name='cancelled_count')\n",
    "cancellation_rate_bp['percentage'] = round((cancellation_rate_bp['cancelled_count'] / cancellation_rate_bp['cancelled_count'].sum())*100,2)\n",
    "cancellation_rate_bp.sort_values(by='percentage',ascending=False)"
   ]
  },
  {
   "cell_type": "code",
   "execution_count": 78,
   "id": "2eac775b-041f-4c27-afb9-327c314a9604",
   "metadata": {},
   "outputs": [
    {
     "data": {
      "image/png": "[encoded data removed]",
      "text/plain": [
       "<Figure size 640x480 with 1 Axes>"
      ]
     },
     "metadata": {},
     "output_type": "display_data"
    }
   ],
   "source": [
    "#setting a color paletee\n",
    "colors = sns.color_palette('Paired', len(highest_revenue_bp))\n",
    "# plotting a pie chart\n",
    "plt.pie(cancellation_rate_bp['cancelled_count'],labels=cancellation_rate_bp['booking_platform'],autopct='%1.1f%%', startangle=140,colors=colors,wedgeprops={'edgecolor': 'black'})\n",
    "plt.title('Cancellation by Booking-Platforms')\n",
    "plt.show()"
   ]
  },
  {
   "cell_type": "markdown",
   "id": "72c84e76-9573-485e-b695-cfe4aea5b8e2",
   "metadata": {},
   "source": [
    "1. Others has highest cancellation rate of 41.0%.\n",
    "2. Tripster has lowest cancellation reate of 7.2%."
   ]
  },
  {
   "cell_type": "markdown",
   "id": "5469e38b-8849-4506-86a9-af78a46c0c8d",
   "metadata": {},
   "source": [
    "# How does the average booking lead time differ across booking platforms ?"
   ]
  },
  {
   "cell_type": "code",
   "execution_count": 79,
   "id": "8812cd6f-4812-4f8b-ab22-d1e3ea30a129",
   "metadata": {},
   "outputs": [
    {
     "data": {
      "text/html": [
       "<div>\n",
       "<style scoped>\n",
       "    .dataframe tbody tr th:only-of-type {\n",
       "        vertical-align: middle;\n",
       "    }\n",
       "\n",
       "    .dataframe tbody tr th {\n",
       "        vertical-align: top;\n",
       "    }\n",
       "\n",
       "    .dataframe thead th {\n",
       "        text-align: right;\n",
       "    }\n",
       "</style>\n",
       "<table border=\"1\" class=\"dataframe\">\n",
       "  <thead>\n",
       "    <tr style=\"text-align: right;\">\n",
       "      <th></th>\n",
       "      <th>booking_platform</th>\n",
       "      <th>lead_time</th>\n",
       "    </tr>\n",
       "  </thead>\n",
       "  <tbody>\n",
       "    <tr>\n",
       "      <th>0</th>\n",
       "      <td>direct offline</td>\n",
       "      <td>4.0</td>\n",
       "    </tr>\n",
       "    <tr>\n",
       "      <th>1</th>\n",
       "      <td>direct online</td>\n",
       "      <td>4.0</td>\n",
       "    </tr>\n",
       "    <tr>\n",
       "      <th>2</th>\n",
       "      <td>journey</td>\n",
       "      <td>4.0</td>\n",
       "    </tr>\n",
       "    <tr>\n",
       "      <th>3</th>\n",
       "      <td>logtrip</td>\n",
       "      <td>4.0</td>\n",
       "    </tr>\n",
       "    <tr>\n",
       "      <th>4</th>\n",
       "      <td>makeyourtrip</td>\n",
       "      <td>4.0</td>\n",
       "    </tr>\n",
       "    <tr>\n",
       "      <th>5</th>\n",
       "      <td>others</td>\n",
       "      <td>4.0</td>\n",
       "    </tr>\n",
       "    <tr>\n",
       "      <th>6</th>\n",
       "      <td>tripster</td>\n",
       "      <td>4.0</td>\n",
       "    </tr>\n",
       "  </tbody>\n",
       "</table>\n",
       "</div>"
      ],
      "text/plain": [
       "  booking_platform  lead_time\n",
       "0   direct offline        4.0\n",
       "1    direct online        4.0\n",
       "2          journey        4.0\n",
       "3          logtrip        4.0\n",
       "4     makeyourtrip        4.0\n",
       "5           others        4.0\n",
       "6         tripster        4.0"
      ]
     },
     "execution_count": 79,
     "metadata": {},
     "output_type": "execute_result"
    }
   ],
   "source": [
    "booking_lead_time_bp = round(df_bookings.groupby('booking_platform')['lead_time'].mean().reset_index())\n",
    "booking_lead_time_bp"
   ]
  },
  {
   "cell_type": "markdown",
   "id": "1b122382-1687-4a4f-b5ff-0b0422a69b58",
   "metadata": {},
   "source": [
    "Average booking lead time across all the platform is same of 4 days."
   ]
  },
  {
   "cell_type": "markdown",
   "id": "2b1320fa-80ee-4501-a894-a8884a2d04d7",
   "metadata": {},
   "source": [
    "# What is the most popular booking platform for luxury hotels vs. business hotels ?"
   ]
  },
  {
   "cell_type": "code",
   "execution_count": 80,
   "id": "4ed27eb9-c6f9-4f5f-bbde-f065d30a5558",
   "metadata": {},
   "outputs": [
    {
     "data": {
      "image/png": "[encoded data removed]",
      "text/plain": [
       "<Figure size 1200x400 with 2 Axes>"
      ]
     },
     "metadata": {},
     "output_type": "display_data"
    }
   ],
   "source": [
    "popular_bp_hotel_categories = pd.merge(df_bookings,df_hotels,on='property_id',how='inner')\n",
    "popular_bp_hotel_categories = popular_bp_hotel_categories.groupby(['category','booking_platform']).size().reset_index(name='count')\n",
    "popular_bp_hotel_categories1 = popular_bp_hotel_categories.pivot(index='category',columns='booking_platform',values='count')\n",
    "\n",
    "# Plotting the heatmap\n",
    "plt.figure(figsize=(12, 4))\n",
    "sns.heatmap(popular_bp_hotel_categories1, annot=True, cmap=\"rocket_r\", fmt='g', cbar=True, linewidths=0.5)\n",
    "\n",
    "# Adding labels and title\n",
    "plt.title('Popular Bookings platform across categories')\n",
    "plt.xlabel('Booking Platform')\n",
    "plt.ylabel('Hotel Categoty')\n",
    "plt.tight_layout()\n",
    "plt.show()"
   ]
  },
  {
   "cell_type": "markdown",
   "id": "298b283c-b5c1-4ae3-a114-db38d27a6984",
   "metadata": {},
   "source": [
    "For both Luxury and Business category others booking platform is mostly used followed by makeyourtrip."
   ]
  },
  {
   "cell_type": "code",
   "execution_count": null,
   "id": "01204b95-dc58-40e1-b776-c8382433cca9",
   "metadata": {},
   "outputs": [],
   "source": []
  }
 ],
 "metadata": {
  "kernelspec": {
   "display_name": "Python 3 (ipykernel)",
   "language": "python",
   "name": "python3"
  },
  "language_info": {
   "codemirror_mode": {
    "name": "ipython",
    "version": 3
   },
   "file_extension": ".py",
   "mimetype": "text/x-python",
   "name": "python",
   "nbconvert_exporter": "python",
   "pygments_lexer": "ipython3",
   "version": "3.13.1"
  }
 },
 "nbformat": 4,
 "nbformat_minor": 5
}
